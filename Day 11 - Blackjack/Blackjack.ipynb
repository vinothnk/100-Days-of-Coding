{
 "cells": [
  {
   "cell_type": "code",
   "execution_count": 7,
   "id": "88e9c082",
   "metadata": {},
   "outputs": [
    {
     "name": "stdout",
     "output_type": "stream",
     "text": [
      "[3, 10]\n",
      "5\n",
      "13\n",
      "11\n"
     ]
    }
   ],
   "source": [
    "#deal card function\n",
    "import random\n",
    "\n",
    "cards = [11, 2, 3, 4, 5, 6, 7, 8, 9, 10, 10, 10, 10]\n",
    "player_card = random.choices(cards, k=2)\n",
    "ai_card = random.choices(cards, k=2)\n",
    "\n",
    "print(player_card)\n",
    "print(ai_card[0])\n",
    "\n",
    "hand_total = sum(player_card)\n",
    "hand_total1 = sum(ai_card)\n",
    "\n",
    "print(hand_total)\n",
    "print(hand_total1)"
   ]
  },
  {
   "cell_type": "code",
   "execution_count": 16,
   "id": "34b0878c",
   "metadata": {},
   "outputs": [
    {
     "name": "stdout",
     "output_type": "stream",
     "text": [
      "[2, 7]\n",
      "10\n"
     ]
    }
   ],
   "source": [
    "def deal_card():\n",
    "    cards = [11, 2, 3, 4, 5, 6, 7, 8, 9, 10, 10, 10, 10]\n",
    "    #global player_card\n",
    "    player_card = random.choices(cards, k=2)\n",
    "    ai_card = random.choices(cards, k=2)\n",
    "    print(player_card)\n",
    "    print(ai_card[0])\n",
    "    \n",
    "def calculate_score():\n",
    "    total_score = sum()\n",
    "    \n",
    "    \n",
    "    \n",
    "deal_card()\n",
    "#calculate_score()"
   ]
  },
  {
   "cell_type": "code",
   "execution_count": 8,
   "id": "cc41bbe7",
   "metadata": {},
   "outputs": [
    {
     "name": "stdout",
     "output_type": "stream",
     "text": [
      "[2, 7]\n",
      "[10, 11]\n",
      "Your cards : [2, 7], current score 9\n",
      "Computer's first card: 11\n",
      "AI WIN!\n",
      "Type 'y' to get another card, type 'n' to pass: n\n",
      "Your final hand is: [2, 7] Final Score: 9\n",
      "AI final hand is: [10, 11] Final Score: 21\n",
      "AI WIN!\n"
     ]
    }
   ],
   "source": [
    "import random\n",
    "\n",
    "\n",
    "cards = [11, 2, 3, 4, 5, 6, 7, 8, 9, 10, 10, 10, 10]\n",
    "player_card = random.choices(cards, k=2)\n",
    "ai_card = random.choices(cards, k=2)\n",
    "\n",
    "print(player_card)\n",
    "print(ai_card)\n",
    "\n",
    "hand_total = sum(player_card)\n",
    "hand_total1 = sum(ai_card)\n",
    "\n",
    "print(f\"Your cards : {player_card}, current score {hand_total}\")\n",
    "print(f\"Computer's first card: {ai_card[1]}\")\n",
    "\n",
    "\n",
    "def calculate_score(a):\n",
    "    total_score = sum(a)\n",
    "    if total_score > 21:\n",
    "#         print(\"BOOM!!\")\n",
    "        return total_score\n",
    "    else:\n",
    "        return total_score\n",
    "\n",
    "\n",
    "calculate_score(player_card)\n",
    "calculate_score(ai_card)\n",
    "\n",
    "if calculate_score(player_card) == 21:\n",
    "    print(\"YOU WIN!\")\n",
    "    \n",
    "    \n",
    "if calculate_score(ai_card) == 21:\n",
    "    print(\"AI WIN!\")\n",
    "    \n",
    "def check_11(a):\n",
    "    #if calculate_score(a) > 21:\n",
    "    for num in a:\n",
    "        if num == 11:\n",
    "            a.remove(11)\n",
    "            a.append(1)\n",
    "    return\n",
    "\n",
    "\n",
    "want_card = True    \n",
    "\n",
    "while want_card is True: \n",
    "    questions = input(\"Type 'y' to get another card, type 'n' to pass: \")    \n",
    "   \n",
    "    if questions == 'y':\n",
    "        additional_card = random.choice(cards)\n",
    "        player_card.append(additional_card)\n",
    "    #     print(player_card)\n",
    "#         calculate_score(player_card)\n",
    "        print(f\"Your cards : {player_card}, current score {calculate_score(player_card)}\")\n",
    "        if calculate_score(player_card) > 21:\n",
    "            check_11(player_card)\n",
    "            if calculate_score(player_card) > 21:\n",
    "                print(\"PLAYER BOOM!!\")\n",
    "                break\n",
    "    elif questions == 'n':\n",
    "        want_card = False\n",
    "        final_score = sum(player_card)\n",
    "        print(f\"Your final hand is: {player_card} Final Score: {final_score}\")\n",
    "        break\n",
    "        \n",
    "\n",
    "ai_want_cards = True        \n",
    "while ai_want_cards is True:\n",
    "    if hand_total1 < 17:\n",
    "        additional_card1 = random.choice(cards)\n",
    "        ai_card.append(additional_card1)\n",
    "        calculate_score(ai_card)\n",
    "        final_score1 = sum(ai_card)\n",
    "        print(f\"AI final hand is: {ai_card} Final Score: {final_score1}\")\n",
    "        if calculate_score(ai_card) > 21:\n",
    "            print(\"AI BOOM!!\")\n",
    "            break\n",
    "    else:\n",
    "        ai_want_card = False\n",
    "        final_score1 = sum(ai_card)\n",
    "        print(f\"AI final hand is: {ai_card} Final Score: {final_score1}\")\n",
    "        break\n",
    "        \n",
    "        \n",
    "        \n",
    "        \n",
    "def compare_score():\n",
    "    if hand_total1 == final_score:\n",
    "        print(\"DRAW!!\")\n",
    "    elif hand_total1 > final_score:\n",
    "        print(\"AI WIN!\")\n",
    "    elif hand_total1 < final_score:\n",
    "        print(\"YOU WIN!\")\n",
    "\n",
    "compare_score()"
   ]
  },
  {
   "cell_type": "code",
   "execution_count": null,
   "id": "8023cef9",
   "metadata": {},
   "outputs": [],
   "source": []
  }
 ],
 "metadata": {
  "kernelspec": {
   "display_name": "Python 3 (ipykernel)",
   "language": "python",
   "name": "python3"
  },
  "language_info": {
   "codemirror_mode": {
    "name": "ipython",
    "version": 3
   },
   "file_extension": ".py",
   "mimetype": "text/x-python",
   "name": "python",
   "nbconvert_exporter": "python",
   "pygments_lexer": "ipython3",
   "version": "3.8.8"
  }
 },
 "nbformat": 4,
 "nbformat_minor": 5
}
