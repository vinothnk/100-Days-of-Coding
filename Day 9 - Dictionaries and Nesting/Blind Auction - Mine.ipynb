{
 "cells": [
  {
   "cell_type": "code",
   "execution_count": null,
   "id": "b98b8567",
   "metadata": {},
   "outputs": [],
   "source": [
    "from IPython.display import clear_output\n",
    "\n",
    "for i in range(10):\n",
    "    clear_output(wait=True)\n",
    "    print(i, flush=True)"
   ]
  },
  {
   "cell_type": "code",
   "execution_count": 6,
   "id": "c5e48fd4",
   "metadata": {},
   "outputs": [
    {
     "name": "stdout",
     "output_type": "stream",
     "text": [
      "Are there any other bidders?no\n",
      "The winner of this blind auction is vinoth with a bid of $999.\n"
     ]
    }
   ],
   "source": [
    "from art import logo\n",
    "from IPython.display import clear_output\n",
    "\n",
    "print(logo)\n",
    "print(\"Welcome to the Blind Auction.\")\n",
    "\n",
    "bids_dict = {}\n",
    "\n",
    "\n",
    "def add_name_bid():\n",
    "    name = input(\"What is your name?\")\n",
    "    bid = input(\"What is your bid for this auction?\")\n",
    "    bids_dict[name] = int(bid)\n",
    "    clear_output(wait=False)\n",
    "    question = input(\"Are there any other bidders?\")\n",
    "    question = question.lower()\n",
    "    if question == \"yes\":\n",
    "        add_name_bid()\n",
    "    else:\n",
    "        check_winner()\n",
    "    \n",
    "def check_winner():\n",
    "    maximum = max(bids_dict, key=bids_dict.get)  # Just use 'min' instead of 'max' for minimum.\n",
    "    print(f\"The winner of this blind auction is {maximum} with a bid of ${bids_dict[maximum]}.\")\n",
    "\n",
    "        \n",
    "add_name_bid()\n",
    "#print(bids_dict)"
   ]
  }
 ],
 "metadata": {
  "kernelspec": {
   "display_name": "Python 3 (ipykernel)",
   "language": "python",
   "name": "python3"
  },
  "language_info": {
   "codemirror_mode": {
    "name": "ipython",
    "version": 3
   },
   "file_extension": ".py",
   "mimetype": "text/x-python",
   "name": "python",
   "nbconvert_exporter": "python",
   "pygments_lexer": "ipython3",
   "version": "3.8.8"
  }
 },
 "nbformat": 4,
 "nbformat_minor": 5
}
