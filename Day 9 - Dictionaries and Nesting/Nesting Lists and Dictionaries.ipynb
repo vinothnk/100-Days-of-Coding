{
 "cells": [
  {
   "cell_type": "code",
   "execution_count": 14,
   "id": "099c3ae5",
   "metadata": {},
   "outputs": [
    {
     "name": "stdout",
     "output_type": "stream",
     "text": [
      "{'key1': ['list1'], 'key2': {'dict2'}}\n"
     ]
    }
   ],
   "source": [
    "#lists and dictionary and values\n",
    "\n",
    "dict1 = {\"key1\":[\"list1\"],\n",
    "        \"key2\": {\"dict2\"}}\n",
    "\n",
    "print(dict1)"
   ]
  },
  {
   "cell_type": "code",
   "execution_count": 19,
   "id": "f3859a54",
   "metadata": {},
   "outputs": [
    {
     "name": "stdout",
     "output_type": "stream",
     "text": [
      "{'France': ['Paris', 'Dijon', 'Lille'], 'Germany': ['Berlin', 'Munich', 'Dortmund']}\n"
     ]
    }
   ],
   "source": [
    "#nesting\n",
    "\n",
    "capitals = {\n",
    "    \"France\": \"Paris\",\n",
    "    \"Germany\": \"Berlin\"   \n",
    "}\n",
    "\n",
    "\n",
    "#nesting a list in a dictionary\n",
    "\n",
    "travel_log = {\n",
    "    \"France\": [\"Paris\", \"Dijon\", \"Lille\"],\n",
    "    \"Germany\": [\"Berlin\", \"Munich\", \"Dortmund\"]\n",
    "}\n",
    "\n",
    "print(travel_log)"
   ]
  },
  {
   "cell_type": "code",
   "execution_count": 30,
   "id": "6a9d3ac5",
   "metadata": {},
   "outputs": [
    {
     "name": "stdout",
     "output_type": "stream",
     "text": [
      "{'cities_visited': ['Paris', 'Dijon', 'Lille'], 'total_visits': 12}\n",
      "['Paris', 'Dijon', 'Lille']\n",
      "-------------------------------------------------------------------------------------------------------\n",
      "{'cities_visited': ['Berlin', 'Munich', 'Dortmund'], 'total_visits': 5}\n",
      "['Berlin', 'Munich', 'Dortmund']\n"
     ]
    }
   ],
   "source": [
    "#nesting dictionary in a dictionary\n",
    "\n",
    "travel_log = {\n",
    "    \"France\": {\"cities_visited\": [\"Paris\", \"Dijon\", \"Lille\"], \"total_visits\": 12},\n",
    "    \"Germany\": {\"cities_visited\": [\"Berlin\", \"Munich\", \"Dortmund\"], \"total_visits\": 5}\n",
    "}\n",
    "\n",
    "print(travel_log[\"France\"]) #printing out values of dictionary for France\n",
    "print(travel_log[\"France\"][\"cities_visited\"]) #printing out values for cities visited under France dictionary\n",
    "\n",
    "print(\"-------------------------------------------------------------------------------------------------------\")\n",
    "\n",
    "print(travel_log[\"Germany\"]) #printing out values of dictionary for France\n",
    "print(travel_log[\"Germany\"][\"cities_visited\"])"
   ]
  },
  {
   "cell_type": "code",
   "execution_count": 55,
   "id": "399ceda8",
   "metadata": {},
   "outputs": [],
   "source": [
    "#nesting dictionary in a list\n",
    "\n",
    "travel_log = [\n",
    "    {\n",
    "        \"country\": \"France\", \n",
    "        \"cities_visited\": [\"Paris\", \"Dijon\", \"Lille\"], \n",
    "        \"total_visits\": 12\n",
    "    },\n",
    "    {\n",
    "        \"country\": \"Germany\", \n",
    "        \"cities_visited\": [\"Berlin\", \"Munich\", \"Dortmund\"], \n",
    "         \"total_visits\": 5\n",
    "    }\n",
    "]"
   ]
  },
  {
   "cell_type": "code",
   "execution_count": null,
   "id": "329235fc",
   "metadata": {},
   "outputs": [],
   "source": []
  }
 ],
 "metadata": {
  "kernelspec": {
   "display_name": "Python 3 (ipykernel)",
   "language": "python",
   "name": "python3"
  },
  "language_info": {
   "codemirror_mode": {
    "name": "ipython",
    "version": 3
   },
   "file_extension": ".py",
   "mimetype": "text/x-python",
   "name": "python",
   "nbconvert_exporter": "python",
   "pygments_lexer": "ipython3",
   "version": "3.8.8"
  }
 },
 "nbformat": 4,
 "nbformat_minor": 5
}
