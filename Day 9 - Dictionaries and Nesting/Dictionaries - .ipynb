{
 "cells": [
  {
   "cell_type": "code",
   "execution_count": 29,
   "id": "deb54e4e",
   "metadata": {},
   "outputs": [
    {
     "name": "stdout",
     "output_type": "stream",
     "text": [
      " A Bug is An error in a program that prevents the program from running as expected..\n",
      "\n",
      "=======================================================================================\n",
      "         \n",
      "{'Bug': 'An error in a program that prevents the program from running as expected.', 'Function': 'A piece of code that you can easily call over and over again.', 'Loop': 'repeating something over and over until a particular condition is satisfied.'}\n",
      "\n",
      "=======================================================================================\n",
      "         \n",
      "{}\n",
      "\n",
      "=======================================================================================\n",
      "         \n",
      "\n",
      "=======================================================================================\n",
      "         \n",
      "a small insect\n",
      "\n",
      "=======================================================================================\n",
      "         \n",
      "Bug\n",
      "a small insect\n",
      "Function\n",
      "A piece of code that you can easily call over and over again.\n",
      "Loop\n",
      "repeating something over and over until a particular condition is satisfied.\n"
     ]
    }
   ],
   "source": [
    "programming_dictionary = {\"Bug\": \"An error in a program that prevents the program from running as expected.\", \n",
    "                          \"Function\": \"A piece of code that you can easily call over and over again.\"}\n",
    "\n",
    "\n",
    "\n",
    "\n",
    "#retrieving keys from dictionary\n",
    "print(f' A Bug is {programming_dictionary[\"Bug\"]}.')\n",
    "print(\"\"\"\n",
    "=======================================================================================\n",
    "         \"\"\")\n",
    "\n",
    "\n",
    "\n",
    "#adding new items into dictionary\n",
    "programming_dictionary[\"Loop\"] = \"repeating something over and over until a particular condition is satisfied.\"\n",
    "print(programming_dictionary)\n",
    "\n",
    "print(\"\"\"\n",
    "=======================================================================================\n",
    "         \"\"\")\n",
    "\n",
    "#creating empty dictionary\n",
    "empty_dictionary = {}\n",
    "print(empty_dictionary)\n",
    "\n",
    "print(\"\"\"\n",
    "=======================================================================================\n",
    "         \"\"\")\n",
    "\n",
    "#wipe clean a dictionary\n",
    "#programming_dictionary = {}\n",
    "#print(programming_dictionary)\n",
    "\n",
    "print(\"\"\"\n",
    "=======================================================================================\n",
    "         \"\"\")\n",
    "\n",
    "#editing a key with a new value\n",
    "programming_dictionary[\"Bug\"] = \"a small insect\"\n",
    "print(programming_dictionary[\"Bug\"])\n",
    "\n",
    "print(\"\"\"\n",
    "=======================================================================================\n",
    "         \"\"\")\n",
    "\n",
    "#loop thru a dictionary\n",
    "\n",
    "for key in programming_dictionary:\n",
    "    print(key) #just prints the key\n",
    "    print(programming_dictionary[key])"
   ]
  },
  {
   "cell_type": "code",
   "execution_count": null,
   "id": "397be238",
   "metadata": {},
   "outputs": [],
   "source": []
  }
 ],
 "metadata": {
  "kernelspec": {
   "display_name": "Python 3 (ipykernel)",
   "language": "python",
   "name": "python3"
  },
  "language_info": {
   "codemirror_mode": {
    "name": "ipython",
    "version": 3
   },
   "file_extension": ".py",
   "mimetype": "text/x-python",
   "name": "python",
   "nbconvert_exporter": "python",
   "pygments_lexer": "ipython3",
   "version": "3.8.8"
  }
 },
 "nbformat": 4,
 "nbformat_minor": 5
}
