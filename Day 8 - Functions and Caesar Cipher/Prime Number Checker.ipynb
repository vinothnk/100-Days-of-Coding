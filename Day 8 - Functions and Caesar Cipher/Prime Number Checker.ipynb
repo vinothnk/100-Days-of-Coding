{
 "cells": [
  {
   "cell_type": "code",
   "execution_count": 16,
   "id": "1370c737",
   "metadata": {},
   "outputs": [
    {
     "name": "stdout",
     "output_type": "stream",
     "text": [
      "Check this number: 75\n",
      "The number 75 is NOT a prime number.\n"
     ]
    }
   ],
   "source": [
    "#Write your code below this line 👇\n",
    "\n",
    "def prime_checker(number):\n",
    "    n = int(number)\n",
    "    is_prime = True\n",
    "    for i in range(2, n):\n",
    "        if (number%i) == 0:\n",
    "            is_prime = False\n",
    "    if is_prime == True:\n",
    "        print(f\"The number {n} is a prime number.\")\n",
    "    else:\n",
    "        print(f\"The number {n} is NOT a prime number.\")\n",
    "\n",
    "\n",
    "#Write your code above this line 👆\n",
    "    \n",
    "#Do NOT change any of the code below👇\n",
    "n = int(input(\"Check this number: \"))\n",
    "prime_checker(number=n)\n"
   ]
  },
  {
   "cell_type": "code",
   "execution_count": null,
   "id": "012748cc",
   "metadata": {},
   "outputs": [],
   "source": []
  }
 ],
 "metadata": {
  "kernelspec": {
   "display_name": "Python 3 (ipykernel)",
   "language": "python",
   "name": "python3"
  },
  "language_info": {
   "codemirror_mode": {
    "name": "ipython",
    "version": 3
   },
   "file_extension": ".py",
   "mimetype": "text/x-python",
   "name": "python",
   "nbconvert_exporter": "python",
   "pygments_lexer": "ipython3",
   "version": "3.8.8"
  }
 },
 "nbformat": 4,
 "nbformat_minor": 5
}
