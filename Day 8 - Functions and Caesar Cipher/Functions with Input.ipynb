{
 "cells": [
  {
   "cell_type": "code",
   "execution_count": null,
   "id": "4a6e0a75",
   "metadata": {},
   "outputs": [],
   "source": [
    "#Function\n",
    "\n",
    "def my_function():\n",
    "    #do this\n",
    "    #then do this\n",
    "    #finally do this\n",
    "    \n",
    "    \n",
    "    \n",
    "my_function()"
   ]
  },
  {
   "cell_type": "code",
   "execution_count": 1,
   "id": "8cc578ca",
   "metadata": {},
   "outputs": [
    {
     "name": "stdout",
     "output_type": "stream",
     "text": [
      "Hi.\n",
      "My name is Vinoth.\n",
      "It is nice to meet you.\n"
     ]
    }
   ],
   "source": [
    "# Review: \n",
    "# Create a function called greet(). \n",
    "# Write 3 print statements inside the function.\n",
    "# Call the greet() function and run your code.\n",
    "\n",
    "def greet():\n",
    "    print(\"Hi.\")\n",
    "    print(\"My name is Vinoth.\")\n",
    "    print(\"It is nice to meet you.\")\n",
    "    \n",
    "    \n",
    "greet()"
   ]
  },
  {
   "cell_type": "code",
   "execution_count": null,
   "id": "ae8559c8",
   "metadata": {},
   "outputs": [],
   "source": [
    "#Function with input\n",
    "\n",
    "def my_function(something):\n",
    "    #do this with something\n",
    "    #then do this\n",
    "    #finally do this\n",
    "    \n",
    "    \n",
    "    \n",
    "my_function(123)\n",
    "\n",
    "\n",
    "def my_function(something): -> something is 'parameter'\n",
    "my_function(123) -> 123 is argument"
   ]
  },
  {
   "cell_type": "code",
   "execution_count": 3,
   "id": "4b6b1932",
   "metadata": {},
   "outputs": [
    {
     "name": "stdout",
     "output_type": "stream",
     "text": [
      "Hello Vinoth.\n",
      "How are you today, Vinoth?\n"
     ]
    }
   ],
   "source": [
    "def greet_with_name(name):\n",
    "    print(f\"Hello {name}.\")\n",
    "    print(f\"How are you today, {name}?\")\n",
    "    \n",
    "greet_with_name(\"Vinoth\")"
   ]
  },
  {
   "cell_type": "code",
   "execution_count": 4,
   "id": "c9a033da",
   "metadata": {},
   "outputs": [
    {
     "name": "stdout",
     "output_type": "stream",
     "text": [
      "Hi. My name is Vinoth and I am from Singapore.\n"
     ]
    }
   ],
   "source": [
    "#functions with more than 1 input\n",
    "\n",
    "def greet_with(name, location):\n",
    "    print(f\"Hi. My name is {name} and I am from {location}.\")\n",
    "    \n",
    "greet_with(\"Vinoth\", \"Singapore\")"
   ]
  },
  {
   "cell_type": "code",
   "execution_count": null,
   "id": "1e1d162b",
   "metadata": {},
   "outputs": [],
   "source": [
    "#Positional Arguments\n",
    "\n",
    "def my_function(a, b, c):\n",
    "    do something with a\n",
    "    then do something with b\n",
    "    finally do something with c\n",
    "    \n",
    "    \n",
    "#Keyword arguments\n",
    "\n",
    "def my_function(c=3, a=1, b=2):\n",
    "    do something with a\n",
    "    then do something with b\n",
    "    finally do something with c"
   ]
  },
  {
   "cell_type": "code",
   "execution_count": 7,
   "id": "4d935176",
   "metadata": {},
   "outputs": [
    {
     "name": "stdout",
     "output_type": "stream",
     "text": [
      "Hi. My name is Vinoth and I am from Singapore.\n",
      "---------------------------------------------------------------\n",
      "Hi. My name is Vinoth and I am from Singapore.\n"
     ]
    }
   ],
   "source": [
    "#Keyword arguments\n",
    "\n",
    "def greet_with(name = \"Vinoth\", location = \"Singapore\"):\n",
    "    print(f\"Hi. My name is {name} and I am from {location}.\")\n",
    "    \n",
    "greet_with()\n",
    "\n",
    "print(\"---------------------------------------------------------------\")\n",
    "#OR\n",
    "\n",
    "def greet_with(name, location):\n",
    "    print(f\"Hi. My name is {name} and I am from {location}.\")\n",
    "    \n",
    "greet_with(name = \"Vinoth\", location = \"Singapore\")"
   ]
  },
  {
   "cell_type": "code",
   "execution_count": null,
   "id": "9d38aa3a",
   "metadata": {},
   "outputs": [],
   "source": []
  }
 ],
 "metadata": {
  "kernelspec": {
   "display_name": "Python 3 (ipykernel)",
   "language": "python",
   "name": "python3"
  },
  "language_info": {
   "codemirror_mode": {
    "name": "ipython",
    "version": 3
   },
   "file_extension": ".py",
   "mimetype": "text/x-python",
   "name": "python",
   "nbconvert_exporter": "python",
   "pygments_lexer": "ipython3",
   "version": "3.8.8"
  }
 },
 "nbformat": 4,
 "nbformat_minor": 5
}
