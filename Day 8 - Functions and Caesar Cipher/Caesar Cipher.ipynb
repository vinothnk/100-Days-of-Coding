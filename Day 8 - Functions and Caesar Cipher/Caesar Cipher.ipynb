{
 "cells": [
  {
   "cell_type": "code",
   "execution_count": 2,
   "id": "8a0eef0b",
   "metadata": {},
   "outputs": [
    {
     "name": "stdout",
     "output_type": "stream",
     "text": [
      "Type 'encode' to encrypt, type 'decode' to decrypt:\n",
      "encode\n",
      "Type your message:\n",
      "hello\n",
      "Type the shift number:\n",
      "5\n",
      "The encoded text is mjqqt.\n"
     ]
    }
   ],
   "source": [
    "alphabet = ['a', 'b', 'c', 'd', 'e', 'f', 'g', 'h', 'i', 'j', 'k', 'l', 'm', 'n', \n",
    "'o', 'p', 'q', 'r', 's', 't', 'u', 'v', 'w', 'x', 'y', 'z''']\n",
    "\n",
    "direction = input(\"Type 'encode' to encrypt, type 'decode' to decrypt:\\n\")\n",
    "text = input(\"Type your message:\\n\").lower()\n",
    "shift = int(input(\"Type the shift number:\\n\"))\n",
    "\n",
    "#TODO-1: Create a function called 'encrypt' that takes the 'text' and 'shift' as inputs.\n",
    "\n",
    "        \n",
    "def encrypt(text, shift):\n",
    "     \n",
    "    #TODO-2: Inside the 'encrypt' function, shift each letter of the 'text' forwards in the alphabet by the shift amount and print the encrypted text.  \n",
    "    #e.g. \n",
    "    #plain_text = \"hello\"\n",
    "    #shift = 5\n",
    "    #cipher_text = \"mjqqt\"\n",
    "    #print output: \"The encoded text is mjqqt\"\n",
    "    shifted_list = []\n",
    "\n",
    "    for char in range(len(text)):\n",
    "        for i in range(len(alphabet)):\n",
    "            if text[char] == alphabet[i]:\n",
    "                new_char = alphabet[int(i) + shift]\n",
    "                shifted_list.append(new_char)\n",
    "                new_string = ''.join(map(str,shifted_list))\n",
    "    \n",
    "    print(f\"The encoded text is {new_string}.\")\n",
    "        \n",
    "            \n",
    "    \n",
    "    ##HINT: How do you get the index of an item in a list:\n",
    "    #https://stackoverflow.com/questions/176918/finding-the-index-of-an-item-in-a-list\n",
    "\n",
    "    ##🐛Bug alert: What happens if you try to encode the word 'civilization'?🐛\n",
    "\n",
    "#TODO-3: Call the encrypt function and pass in the user inputs. You should be able to test the code and encrypt a message. \n",
    "encrypt(text, shift)"
   ]
  },
  {
   "cell_type": "code",
   "execution_count": null,
   "id": "85f72118",
   "metadata": {},
   "outputs": [],
   "source": [
    "#1st step\n",
    "\n",
    "#convert string to list - done\n",
    "#get position of text in the list - done\n",
    "#get positions of alphabets\n",
    "#compare the position of index of character in converted list to alphabet list\n",
    "#if same position, create a new list\n",
    "#shift the index of the character in text by shift value\n",
    "#append new value into the new list\n",
    "\n"
   ]
  },
  {
   "cell_type": "code",
   "execution_count": 1,
   "id": "69311d89",
   "metadata": {},
   "outputs": [
    {
     "name": "stdout",
     "output_type": "stream",
     "text": [
      "['h', 'e', 'l', 'l', 'o']\n",
      "mjqqt\n"
     ]
    }
   ],
   "source": [
    "alphabet = ['a', 'b', 'c', 'd', 'e', 'f', 'g', 'h', 'i', 'j', 'k', 'l', 'm', 'n', \n",
    "'o', 'p', 'q', 'r', 's', 't', 'u', 'v', 'w', 'x', 'y', 'z''']\n",
    "\n",
    "text = \"hello\"\n",
    "shift = 5\n",
    "\n",
    "text = list(text)\n",
    "print(text)\n",
    "\n",
    "#for char in range(len(text)):\n",
    "    #print(text[char])\n",
    "    \n",
    "shifted_list = []\n",
    "\n",
    "for char in range(len(text)):\n",
    "    for i in range(len(alphabet)):\n",
    "        if text[char] == alphabet[i]:\n",
    "            new_char = alphabet[int(i) + 5]\n",
    "            shifted_list.append(new_char)\n",
    "            new_string = ''.join(map(str,shifted_list))\n",
    "\n",
    "print(new_string)"
   ]
  },
  {
   "cell_type": "code",
   "execution_count": 4,
   "id": "597a6cac",
   "metadata": {},
   "outputs": [
    {
     "name": "stdout",
     "output_type": "stream",
     "text": [
      "The encoded text is mjqqt\n"
     ]
    }
   ],
   "source": [
    "#Wilson Way\n",
    "alphabet = ['a', 'b', 'c', 'd', 'e', 'f', 'g', 'h', 'i', 'j', 'k', 'l', 'm', 'n', \n",
    "'o', 'p', 'q', 'r', 's', 't', 'u', 'v', 'w', 'x', 'y', 'z''']\n",
    "\n",
    "message = \"hello\"\n",
    "num = 5\n",
    "\n",
    "\n",
    "def encrypt(message, num):\n",
    "    cipher_text = \"\"\n",
    "    for a in message:\n",
    "        position = alphabet.index(a)\n",
    "        new_position = position + num\n",
    "        new_letter = alphabet[new_position]\n",
    "        cipher_text += new_letter\n",
    "    print(f\"The encoded text is {cipher_text}\")\n",
    "    \n",
    "encrypt(message, num)"
   ]
  },
  {
   "cell_type": "code",
   "execution_count": 5,
   "id": "8e87071c",
   "metadata": {},
   "outputs": [
    {
     "name": "stdout",
     "output_type": "stream",
     "text": [
      "Type 'encode' to encrypt, type 'decode' to decrypt:\n",
      "decode\n",
      "Type your message:\n",
      "mjqqt\n",
      "Type the shift number:\n",
      "5\n",
      "The encoded text is hello\n"
     ]
    }
   ],
   "source": [
    "#decoding\n",
    "\n",
    "#TODO-1: Create a different function called 'decrypt' that takes the 'text' and 'shift' as inputs.\n",
    "\n",
    "  #TODO-2: Inside the 'decrypt' function, shift each letter of the 'text' *backwards* in the alphabet by the shift amount and print the decrypted text.  \n",
    "  #e.g. \n",
    "  #cipher_text = \"mjqqt\"\n",
    "  #shift = 5\n",
    "  #plain_text = \"hello\"\n",
    "  #print output: \"The decoded text is hello\"\n",
    "\n",
    "\n",
    "#TODO-3: Check if the user wanted to encrypt or decrypt the message by checking the 'direction' variable. \n",
    "#Then call the correct function based on that 'drection' variable. You should be able to test the code to encrypt \n",
    "#*AND* decrypt a message.\n",
    "\n",
    "alphabet = ['a', 'b', 'c', 'd', 'e', 'f', 'g', 'h', 'i', 'j', 'k', 'l', 'm', 'n', \n",
    "'o', 'p', 'q', 'r', 's', 't', 'u', 'v', 'w', 'x', 'y', 'z''']\n",
    "\n",
    "direction = input(\"Type 'encode' to encrypt, type 'decode' to decrypt:\\n\")\n",
    "text = input(\"Type your message:\\n\").lower()\n",
    "shift = int(input(\"Type the shift number:\\n\"))\n",
    "\n",
    "#TODO-1: Create a different function called 'decrypt' that takes the 'text' and 'shift' as inputs.\n",
    "\n",
    "        \n",
    "def encrypt(text, shift):\n",
    "     \n",
    "    #TODO-2: Inside the 'encrypt' function, shift each letter of the 'text' forwards in the alphabet by the shift amount and print the encrypted text.  \n",
    "    #e.g. \n",
    "    #plain_text = \"hello\"\n",
    "    #shift = 5\n",
    "    #cipher_text = \"mjqqt\"\n",
    "    #print output: \"The encoded text is mjqqt\"\n",
    "    shifted_list = []\n",
    "\n",
    "    for char in range(len(text)):\n",
    "        for i in range(len(alphabet)):\n",
    "            if text[char] == alphabet[i]:\n",
    "                new_char = alphabet[int(i) + shift]\n",
    "                shifted_list.append(new_char)\n",
    "                new_string = ''.join(map(str,shifted_list))\n",
    "    \n",
    "    print(f\"The encoded text is {new_string}.\")\n",
    "\n",
    "    \n",
    "    \n",
    "    \n",
    "def decrypt(text, shift):\n",
    "    #TODO-2: Inside the 'decrypt' function, shift each letter of the 'text' *backwards* in the alphabet by the shift amount and print the decrypted text.  \n",
    "    #e.g. \n",
    "    #cipher_text = \"mjqqt\"\n",
    "    #shift = 5\n",
    "    #plain_text = \"hello\"\n",
    "    #print output: \"The decoded text is hello\"\n",
    "    decipher_text = \"\"\n",
    "    for char in text:\n",
    "        position = alphabet.index(char)\n",
    "        new_position = position - shift\n",
    "        new_letter = alphabet[new_position]\n",
    "        decipher_text += new_letter\n",
    "    print(f\"The encoded text is {decipher_text}\")\n",
    "    \n",
    "\n",
    "\n",
    "\n",
    "    \n",
    "    ##HINT: How do you get the index of an item in a list:\n",
    "    #https://stackoverflow.com/questions/176918/finding-the-index-of-an-item-in-a-list\n",
    "\n",
    "    ##🐛Bug alert: What happens if you try to encode the word 'civilization'?🐛\n",
    "\n",
    "#TODO-3: Check if the user wanted to encrypt or decrypt the message by checking the 'direction' variable. \n",
    "#Then call the correct function based on that 'drection' variable. You should be able to test the code to encrypt \n",
    "#*AND* decrypt a message.\n",
    "\n",
    "#encrypt(text, shift)\n",
    "decrypt(text, shift)"
   ]
  },
  {
   "cell_type": "code",
   "execution_count": 7,
   "id": "29b6e415",
   "metadata": {},
   "outputs": [
    {
     "name": "stdout",
     "output_type": "stream",
     "text": [
      "The encoded text is hello.\n"
     ]
    }
   ],
   "source": [
    "alphabet = ['a', 'b', 'c', 'd', 'e', 'f', 'g', 'h', 'i', 'j', 'k', 'l', 'm', 'n', \n",
    "'o', 'p', 'q', 'r', 's', 't', 'u', 'v', 'w', 'x', 'y', 'z''']\n",
    "\n",
    "def decrypt(text, shift):\n",
    "    for char in range(len(text)):\n",
    "        for i in range(len(alphabet)):\n",
    "            if text[char] == alphabet[i]:\n",
    "                new_char = alphabet[int(i) - shift]\n",
    "                shifted_list.append(new_char)\n",
    "                new_string = ''.join(map(str,shifted_list))\n",
    "    \n",
    "    print(f\"The encoded text is {new_string}.\")\n",
    "\n",
    "\n",
    "    \n",
    "text = \"mjqqt\"\n",
    "shift = 5\n",
    "\n",
    "shifted_list = []\n",
    "\n",
    "decrypt(text, shift)"
   ]
  },
  {
   "cell_type": "code",
   "execution_count": null,
   "id": "1413c417",
   "metadata": {},
   "outputs": [],
   "source": []
  }
 ],
 "metadata": {
  "kernelspec": {
   "display_name": "Python 3 (ipykernel)",
   "language": "python",
   "name": "python3"
  },
  "language_info": {
   "codemirror_mode": {
    "name": "ipython",
    "version": 3
   },
   "file_extension": ".py",
   "mimetype": "text/x-python",
   "name": "python",
   "nbconvert_exporter": "python",
   "pygments_lexer": "ipython3",
   "version": "3.8.8"
  }
 },
 "nbformat": 4,
 "nbformat_minor": 5
}
