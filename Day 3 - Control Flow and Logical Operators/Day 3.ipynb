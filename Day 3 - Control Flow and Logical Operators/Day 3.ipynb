{
 "cells": [
  {
   "cell_type": "markdown",
   "id": "e3ce5d06",
   "metadata": {},
   "source": [
    "## Control Flow using if/else and Conditional statements"
   ]
  },
  {
   "cell_type": "code",
   "execution_count": null,
   "id": "0b049271",
   "metadata": {},
   "outputs": [],
   "source": [
    "## if/else\n",
    "if condition:\n",
    "    do this\n",
    "else:\n",
    "    do this\n",
    "    "
   ]
  },
  {
   "cell_type": "code",
   "execution_count": null,
   "id": "36ee4258",
   "metadata": {},
   "outputs": [],
   "source": [
    "#example\n",
    "\n",
    "water_level = 50\n",
    "\n",
    "if water_level > 80:\n",
    "    print(\"Drain\")\n",
    "else:\n",
    "    print(\"Continue\")"
   ]
  },
  {
   "cell_type": "code",
   "execution_count": null,
   "id": "d831494e",
   "metadata": {},
   "outputs": [],
   "source": [
    "# Ticketing Flow\n",
    "\n",
    "\n",
    "print(\"Welcome to the rollercoaster!\")\n",
    "height = int(input(\"What is your height in cm? \"))\n",
    "\n",
    "if height > 120:\n",
    "    print(\"You can go on the ride.\")\n",
    "else:\n",
    "    print(\"Sorry. You are too short to go on the ride.\")"
   ]
  },
  {
   "cell_type": "markdown",
   "id": "d6be3c6c",
   "metadata": {},
   "source": [
    "## Comparison operators"
   ]
  },
  {
   "cell_type": "code",
   "execution_count": null,
   "id": "9c9b4b70",
   "metadata": {},
   "outputs": [],
   "source": [
    "> = greater than\n",
    "< = lesser than\n",
    ">= = greater than or equal to\n",
    "<= = lesser than or equal to\n",
    "== = equal to\n",
    "!= = not equal to"
   ]
  },
  {
   "cell_type": "code",
   "execution_count": null,
   "id": "93bdf105",
   "metadata": {},
   "outputs": [],
   "source": [
    "# Ticketing Flow\n",
    "\n",
    "\n",
    "print(\"Welcome to the rollercoaster!\")\n",
    "height = int(input(\"What is your height in cm? \"))\n",
    "\n",
    "if height >= 120:\n",
    "    print(\"You can go on the ride.\")\n",
    "else:\n",
    "    print(\"Sorry. You are too short to go on the ride.\")"
   ]
  },
  {
   "cell_type": "code",
   "execution_count": null,
   "id": "11b942ae",
   "metadata": {},
   "outputs": [],
   "source": []
  },
  {
   "cell_type": "markdown",
   "id": "f999e8d7",
   "metadata": {},
   "source": [
    "## Exercise 3.1 - Odd or Even"
   ]
  },
  {
   "cell_type": "markdown",
   "id": "9dcff242",
   "metadata": {},
   "source": [
    "## Instructions\n",
    "Write a program that works out whether if a given number is an odd or even number.\n",
    "\n",
    "Even numbers can be divided by 2 with no remainder.\n",
    "\n",
    "e.g. 86 is even because 86 ÷ 2 = 43\n",
    "\n",
    "43 does not have any decimal places. Therefore the division is clean.\n",
    "\n",
    "e.g. 59 is odd because 59 ÷ 2 = 29.5\n",
    "\n",
    "29.5 is not a whole number, it has decimal places. Therefore there is a remainder of 0.5, so the division is not clean.\n",
    "\n",
    "The modulo is written as a percentage sign (%) in Python. It gives you the remainder after a division.\n",
    "\n",
    "e.g.\n",
    "\n",
    "6 ÷ 2 = 3 with no remainder.\n",
    "\n",
    "therefore: 6 % 2 = 0\n",
    "\n",
    "5 ÷ 2 = 2 x 2 + 1, remainder is 1.\n",
    "\n",
    "therefore: 5 % 2 = 1\n",
    "\n",
    "14 ÷ 4 = 3 x 4 + 2, remainder is 2.\n",
    "\n",
    "therefore: 14 % 4 = 2\n",
    "\n",
    "Warning your output should match the Example Output format exactly, even the positions of the commas and full stops.\n",
    "\n",
    "Example Input 1\n",
    "\n",
    "43\n",
    "\n",
    "Example Output 1\n",
    "\n",
    "This is an odd number.\n",
    "\n",
    "Example Input 2\n",
    "\n",
    "94\n",
    "\n",
    "Example Output 2\n",
    "\n",
    "This is an even number."
   ]
  },
  {
   "cell_type": "code",
   "execution_count": null,
   "id": "df09bc50",
   "metadata": {},
   "outputs": [],
   "source": [
    "# 🚨 Don't change the code below 👇\n",
    "number = int(input(\"Which number do you want to check? \"))\n",
    "# 🚨 Don't change the code above 👆\n",
    "\n",
    "#Write your code below this line 👇\n",
    "\n",
    "if number % 2 == 0:\n",
    "    print(\"This is an even number.\")\n",
    "else:\n",
    "    print(\"This is an odd number.\")"
   ]
  },
  {
   "cell_type": "code",
   "execution_count": null,
   "id": "3cd19212",
   "metadata": {},
   "outputs": [],
   "source": []
  },
  {
   "cell_type": "markdown",
   "id": "145fe2eb",
   "metadata": {},
   "source": [
    "## Nested if/else statements"
   ]
  },
  {
   "cell_type": "code",
   "execution_count": null,
   "id": "e1fa3d2c",
   "metadata": {},
   "outputs": [],
   "source": [
    "## if/else\n",
    "if condition:\n",
    "    if condition:\n",
    "        do this\n",
    "    else:\n",
    "        do this\n",
    "else:\n",
    "    do this"
   ]
  },
  {
   "cell_type": "markdown",
   "id": "e7cccbb0",
   "metadata": {},
   "source": [
    "## Ticketing Flow 2"
   ]
  },
  {
   "cell_type": "code",
   "execution_count": null,
   "id": "d239a36f",
   "metadata": {
    "scrolled": true
   },
   "outputs": [],
   "source": [
    "# Ticketing Flow 2\n",
    "\n",
    "\n",
    "print(\"Welcome to the rollercoaster!\")\n",
    "\n",
    "\n",
    "height = int(input(\"What is your height in cm? \"))\n",
    "\n",
    "\n",
    "\n",
    "if height >= 120:\n",
    "    print(\"You can go on the ride.\")\n",
    "    age = int(input(\"What is your age?\"))\n",
    "    if age >= 18:\n",
    "        print(\"Your ticket costs $12.\")\n",
    "    else:\n",
    "        print(\"Your ticket costs $7.\")\n",
    "else:\n",
    "    print(\"Sorry. You are too short to go on the ride.\")"
   ]
  },
  {
   "cell_type": "markdown",
   "id": "c278a4d4",
   "metadata": {},
   "source": [
    "## Ticketing Flow 3"
   ]
  },
  {
   "cell_type": "code",
   "execution_count": null,
   "id": "624e7133",
   "metadata": {},
   "outputs": [],
   "source": [
    "# Ticketing Flow 3\n",
    "\n",
    "\n",
    "print(\"Welcome to the rollercoaster!\")\n",
    "\n",
    "\n",
    "height = int(input(\"What is your height in cm? \"))\n",
    "\n",
    "\n",
    "\n",
    "if height >= 120:\n",
    "    print(\"You can go on the ride.\")\n",
    "    age = int(input(\"What is your age?\"))\n",
    "    if age > 18:\n",
    "        print(\"Your ticket costs $12.\")\n",
    "    elif age >= 12 and age <= 18:\n",
    "        print(\"Your ticket costs $7.\")\n",
    "    else:\n",
    "        print(\"Your ticket costs $5.\")\n",
    "else:\n",
    "    print(\"Sorry. You are too short to go on the ride.\")"
   ]
  },
  {
   "cell_type": "markdown",
   "id": "8ed03860",
   "metadata": {},
   "source": [
    "## BMI Calculator 2.0"
   ]
  },
  {
   "cell_type": "code",
   "execution_count": null,
   "id": "73cb7c84",
   "metadata": {},
   "outputs": [],
   "source": [
    "# 🚨 Don't change the code below 👇\n",
    "height = float(input(\"enter your height in m: \"))\n",
    "weight = float(input(\"enter your weight in kg: \"))\n",
    "# 🚨 Don't change the code above 👆\n",
    "\n",
    "#Write your code below this line 👇\n",
    "bmi = round(weight / (height * height))\n",
    "#print(bmi)\n",
    "\n",
    "if bmi < 18.5:\n",
    "    print(f\" Your BMI is {bmi}, you are underweight.\")\n",
    "elif bmi < 25:\n",
    "    print(f\"Your BMI is {bmi}, you have a normal weight.\")\n",
    "elif bmi < 30:\n",
    "    print(f\"Your BMI is {bmi}, you are slightly overweight.\")\n",
    "elif bmi < 35:\n",
    "    print(f\"Your BMI is {bmi}, you are obese.\")\n",
    "else:\n",
    "    print(f\"Your BMI is {bmi}, you are clinically obese.\")"
   ]
  },
  {
   "cell_type": "markdown",
   "id": "ad75c4b9",
   "metadata": {},
   "source": [
    "## Leap Years Exercise"
   ]
  },
  {
   "cell_type": "code",
   "execution_count": null,
   "id": "88b93c8c",
   "metadata": {},
   "outputs": [],
   "source": [
    "# 🚨 Don't change the code below 👇\n",
    "year = int(input(\"Which year do you want to check? \"))\n",
    "# 🚨 Don't change the code above 👆\n",
    "\n",
    "#Write your code below this line 👇\n",
    "if year % 4 == 0:\n",
    "    print(\"Leap year.\")\n",
    "elif year % 100 == 0:\n",
    "    print(\"Leap year.\")\n",
    "elif year % 400 == 0:\n",
    "    print(\"Leap year\")\n",
    "else:\n",
    "    print(\"Not leap year.\")"
   ]
  },
  {
   "cell_type": "markdown",
   "id": "0ce77410",
   "metadata": {},
   "source": [
    "## Ticketing Flow 4"
   ]
  },
  {
   "cell_type": "code",
   "execution_count": 1,
   "id": "d093dbc6",
   "metadata": {},
   "outputs": [
    {
     "name": "stdout",
     "output_type": "stream",
     "text": [
      "Welcome to the rollercoaster!\n",
      "What is your height in cm? 121\n",
      "You can go on the ride.\n",
      "What is your age?19\n",
      "Your ticket costs $12.\n",
      "Do you want photos? Y or N?Y\n",
      "Your total bill is $15.\n"
     ]
    }
   ],
   "source": [
    "# Ticketing Flow 3\n",
    "\n",
    "\n",
    "print(\"Welcome to the rollercoaster!\")\n",
    "\n",
    "\n",
    "height = int(input(\"What is your height in cm? \"))\n",
    "\n",
    "\n",
    "\n",
    "if height >= 120:\n",
    "    print(\"You can go on the ride.\")\n",
    "    age = int(input(\"What is your age?\"))\n",
    "    if age > 18:\n",
    "        bill = 12\n",
    "        print(f\"Your ticket costs ${bill}.\")\n",
    "    elif age >= 12 and age <= 18:\n",
    "        bill = 7\n",
    "        print(f\"Your ticket costs ${bill}.\")\n",
    "    else: \n",
    "        bill = 5\n",
    "        print(f\"Your ticket costs ${bill}.\")\n",
    "    photos = input(\"Do you want photos? Y or N?\")\n",
    "    if photos == \"Y\":\n",
    "        total_bill = bill + 3\n",
    "        print(f\"Your total bill is ${total_bill}.\")\n",
    "    else:\n",
    "        print(f\"Your total bill is ${total_bill}.\")\n",
    "else:\n",
    "    print(\"Sorry. You are too short to go on the ride.\")"
   ]
  },
  {
   "cell_type": "markdown",
   "id": "8caf20dd",
   "metadata": {},
   "source": [
    "## Pizza Order"
   ]
  },
  {
   "cell_type": "code",
   "execution_count": 2,
   "id": "06a28ffb",
   "metadata": {},
   "outputs": [
    {
     "name": "stdout",
     "output_type": "stream",
     "text": [
      "Welcome to Python Pizza Deliveries!\n",
      "What size pizza do you want? S, M, or L L\n",
      "Do you want pepperoni? Y or N Y\n",
      "Do you want extra cheese? Y or N Y\n",
      "Your final bill is $29.\n"
     ]
    }
   ],
   "source": [
    "# 🚨 Don't change the code below 👇\n",
    "print(\"Welcome to Python Pizza Deliveries!\")\n",
    "size = input(\"What size pizza do you want? S, M, or L \")\n",
    "add_pepperoni = input(\"Do you want pepperoni? Y or N \")\n",
    "extra_cheese = input(\"Do you want extra cheese? Y or N \")\n",
    "# 🚨 Don't change the code above 👆\n",
    "\n",
    "#Write your code below this line 👇\n",
    "if size == \"S\":\n",
    "    price = 15\n",
    "    if add_pepperoni == \"Y\":\n",
    "        price += 2\n",
    "elif size == \"M\":\n",
    "    price = 20\n",
    "    if add_pepperoni == \"Y\":\n",
    "        price += 3\n",
    "else:\n",
    "    price = 25\n",
    "    if add_pepperoni == \"Y\":\n",
    "        price += 3\n",
    "if extra_cheese == \"Y\":\n",
    "    price += 1\n",
    "else:\n",
    "    price\n",
    "print(f\"Your final bill is ${price}.\")"
   ]
  },
  {
   "cell_type": "markdown",
   "id": "1ade9e50",
   "metadata": {},
   "source": [
    "## Ticketing Flow 5"
   ]
  },
  {
   "cell_type": "code",
   "execution_count": 5,
   "id": "eadbd707",
   "metadata": {},
   "outputs": [
    {
     "name": "stdout",
     "output_type": "stream",
     "text": [
      "Welcome to the rollercoaster!\n",
      "What is your height in cm? 121\n",
      "You can go on the ride.\n",
      "What is your age?46\n",
      "Your ticket costs $0.\n",
      "Do you want photos? Y or N?Y\n",
      "Your total bill is $3.\n"
     ]
    }
   ],
   "source": [
    "# Ticketing Flow 5\n",
    "\n",
    "\n",
    "print(\"Welcome to the rollercoaster!\")\n",
    "\n",
    "\n",
    "height = int(input(\"What is your height in cm? \"))\n",
    "\n",
    "\n",
    "\n",
    "if height >= 120:\n",
    "    print(\"You can go on the ride.\")\n",
    "    age = int(input(\"What is your age?\"))\n",
    "    if age < 12:\n",
    "        bill = 5\n",
    "        print(f\"Your ticket costs ${bill}.\")\n",
    "    elif age >= 12 and age <= 18:\n",
    "        bill = 7\n",
    "        print(f\"Your ticket costs ${bill}.\")\n",
    "    elif age >= 45 and age <= 55:\n",
    "        bill = 0\n",
    "        print(f\"Your ticket costs ${bill}.\")\n",
    "    else: \n",
    "        bill = 12\n",
    "        print(f\"Your ticket costs ${bill}.\")\n",
    "    photos = input(\"Do you want photos? Y or N?\")\n",
    "    if photos == \"Y\":\n",
    "        total_bill = bill + 3\n",
    "        print(f\"Your total bill is ${total_bill}.\")\n",
    "    else:\n",
    "        print(f\"Your total bill is ${total_bill}.\")\n",
    "else:\n",
    "    print(\"Sorry. You are too short to go on the ride.\")"
   ]
  },
  {
   "cell_type": "code",
   "execution_count": null,
   "id": "f6af2d4d",
   "metadata": {},
   "outputs": [],
   "source": []
  },
  {
   "cell_type": "code",
   "execution_count": 27,
   "id": "8a47298a",
   "metadata": {},
   "outputs": [
    {
     "name": "stdout",
     "output_type": "stream",
     "text": [
      "Welcome to the Love Calculator!\n",
      "What is your name? \n",
      "kanye west\n",
      "What is their name? \n",
      "kim kardashian\n",
      "kanye westkim kardashian\n",
      "4\n",
      "2\n",
      "42\n",
      "Your score is 42, you are alright together.\n"
     ]
    }
   ],
   "source": [
    "# 🚨 Don't change the code below 👇\n",
    "print(\"Welcome to the Love Calculator!\")\n",
    "name1 = input(\"What is your name? \\n\")\n",
    "name2 = input(\"What is their name? \\n\")\n",
    "# 🚨 Don't change the code above 👆\n",
    "\n",
    "#Write your code below this line 👇\n",
    "\n",
    "combined_string = name1 + name2\n",
    "combined_string = combined_string.lower()\n",
    "print(combined_string)\n",
    "\n",
    "t = combined_string.count(\"t\")\n",
    "r = combined_string.count(\"r\")\n",
    "u = combined_string.count(\"u\")\n",
    "e = combined_string.count(\"e\")\n",
    "\n",
    "true = str(t + r + u + e)\n",
    "print(true)\n",
    "\n",
    "\n",
    "l = combined_string.count(\"l\")\n",
    "o = combined_string.count(\"o\")\n",
    "v = combined_string.count(\"v\")\n",
    "e = combined_string.count(\"e\")\n",
    "\n",
    "love = str(l + o + v + e)\n",
    "print(love)\n",
    "\n",
    "truelove = true + love\n",
    "print(truelove)\n",
    "\n",
    "truelove = int(truelove)\n",
    "\n",
    "if truelove < 10 or truelove > 90:\n",
    "    print(f\"Your score is {truelove}, you go together like coke and mentos.\")\n",
    "elif truelove >= 40 and truelove <= 50:\n",
    "    print(f\"Your score is {truelove}, you are alright together.\")\n",
    "else:\n",
    "    print(f\"Your score is {truelove}.\")"
   ]
  },
  {
   "cell_type": "markdown",
   "id": "ce60af1a",
   "metadata": {},
   "source": [
    "## Day 3 Project - Treasure Island"
   ]
  },
  {
   "cell_type": "code",
   "execution_count": 36,
   "id": "c8f94e3f",
   "metadata": {},
   "outputs": [
    {
     "name": "stdout",
     "output_type": "stream",
     "text": [
      "\n",
      "*******************************************************************************\n",
      "          |                   |                  |                     |\n",
      " _________|________________.=\"\"_;=.______________|_____________________|_______\n",
      "|                   |  ,-\"_,=\"\"     `\"=.|                  |\n",
      "|___________________|__\"=._o`\"-._        `\"=.______________|___________________\n",
      "          |                `\"=._o`\"=._      _`\"=._                     |\n",
      " _________|_____________________:=._o \"=._.\"_.-=\"'\"=.__________________|_______\n",
      "|                   |    __.--\" , ; `\"=._o.\" ,-\"\"\"-._ \".   |\n",
      "|___________________|_._\"  ,. .` ` `` ,  `\"-._\"-._   \". '__|___________________\n",
      "          |           |o`\"=._` , \"` `; .\". ,  \"-._\"-._; ;              |\n",
      " _________|___________| ;`-.o`\"=._; .\" ` '`.\"\\` . \"-._ /_______________|_______\n",
      "|                   | |o;    `\"-.o`\"=._``  '` \" ,__.--o;   |\n",
      "|___________________|_| ;     (#) `-.o `\"=.`_.--\"_o.-; ;___|___________________\n",
      "____/______/______/___|o;._    \"      `\".o|o_.--\"    ;o;____/______/______/____\n",
      "/______/______/______/_\"=._o--._        ; | ;        ; ;/______/______/______/_\n",
      "____/______/______/______/__\"=._o--._   ;o|o;     _._;o;____/______/______/____\n",
      "/______/______/______/______/____\"=._o._; | ;_.--\"o.--\"_/______/______/______/_\n",
      "____/______/______/______/______/_____\"=.o|o_.--\"\"___/______/______/______/____\n",
      "/______/______/______/______/______/______/______/______/______/______/_____ /\n",
      "*******************************************************************************\n",
      "\n",
      "Welcome to Treasure Island.\n",
      "Your mission is to find the treasure.\n"
     ]
    },
    {
     "ename": "KeyboardInterrupt",
     "evalue": "Interrupted by user",
     "output_type": "error",
     "traceback": [
      "\u001b[1;31m---------------------------------------------------------------------------\u001b[0m",
      "\u001b[1;31mKeyboardInterrupt\u001b[0m                         Traceback (most recent call last)",
      "\u001b[1;32m~\\AppData\\Local\\Temp/ipykernel_13192/1514616059.py\u001b[0m in \u001b[0;36m<module>\u001b[1;34m\u001b[0m\n\u001b[0;32m     29\u001b[0m \u001b[1;33m\u001b[0m\u001b[0m\n\u001b[0;32m     30\u001b[0m \u001b[1;33m\u001b[0m\u001b[0m\n\u001b[1;32m---> 31\u001b[1;33m \u001b[0mchoice1\u001b[0m \u001b[1;33m=\u001b[0m \u001b[0minput\u001b[0m\u001b[1;33m(\u001b[0m\u001b[1;34m\"Do you want to go left or right? L/R?\"\u001b[0m\u001b[1;33m)\u001b[0m\u001b[1;33m\u001b[0m\u001b[1;33m\u001b[0m\u001b[0m\n\u001b[0m\u001b[0;32m     32\u001b[0m \u001b[1;33m\u001b[0m\u001b[0m\n\u001b[0;32m     33\u001b[0m \u001b[1;32mif\u001b[0m \u001b[0mchoice1\u001b[0m \u001b[1;33m==\u001b[0m \u001b[1;34m\"L\"\u001b[0m\u001b[1;33m:\u001b[0m\u001b[1;33m\u001b[0m\u001b[1;33m\u001b[0m\u001b[0m\n",
      "\u001b[1;32m~\\anaconda3\\lib\\site-packages\\ipykernel\\kernelbase.py\u001b[0m in \u001b[0;36mraw_input\u001b[1;34m(self, prompt)\u001b[0m\n\u001b[0;32m   1004\u001b[0m                 \u001b[1;34m\"raw_input was called, but this frontend does not support input requests.\"\u001b[0m\u001b[1;33m\u001b[0m\u001b[1;33m\u001b[0m\u001b[0m\n\u001b[0;32m   1005\u001b[0m             )\n\u001b[1;32m-> 1006\u001b[1;33m         return self._input_request(\n\u001b[0m\u001b[0;32m   1007\u001b[0m             \u001b[0mstr\u001b[0m\u001b[1;33m(\u001b[0m\u001b[0mprompt\u001b[0m\u001b[1;33m)\u001b[0m\u001b[1;33m,\u001b[0m\u001b[1;33m\u001b[0m\u001b[1;33m\u001b[0m\u001b[0m\n\u001b[0;32m   1008\u001b[0m             \u001b[0mself\u001b[0m\u001b[1;33m.\u001b[0m\u001b[0m_parent_ident\u001b[0m\u001b[1;33m[\u001b[0m\u001b[1;34m\"shell\"\u001b[0m\u001b[1;33m]\u001b[0m\u001b[1;33m,\u001b[0m\u001b[1;33m\u001b[0m\u001b[1;33m\u001b[0m\u001b[0m\n",
      "\u001b[1;32m~\\anaconda3\\lib\\site-packages\\ipykernel\\kernelbase.py\u001b[0m in \u001b[0;36m_input_request\u001b[1;34m(self, prompt, ident, parent, password)\u001b[0m\n\u001b[0;32m   1049\u001b[0m             \u001b[1;32mexcept\u001b[0m \u001b[0mKeyboardInterrupt\u001b[0m\u001b[1;33m:\u001b[0m\u001b[1;33m\u001b[0m\u001b[1;33m\u001b[0m\u001b[0m\n\u001b[0;32m   1050\u001b[0m                 \u001b[1;31m# re-raise KeyboardInterrupt, to truncate traceback\u001b[0m\u001b[1;33m\u001b[0m\u001b[1;33m\u001b[0m\u001b[1;33m\u001b[0m\u001b[0m\n\u001b[1;32m-> 1051\u001b[1;33m                 \u001b[1;32mraise\u001b[0m \u001b[0mKeyboardInterrupt\u001b[0m\u001b[1;33m(\u001b[0m\u001b[1;34m\"Interrupted by user\"\u001b[0m\u001b[1;33m)\u001b[0m \u001b[1;32mfrom\u001b[0m \u001b[1;32mNone\u001b[0m\u001b[1;33m\u001b[0m\u001b[1;33m\u001b[0m\u001b[0m\n\u001b[0m\u001b[0;32m   1052\u001b[0m             \u001b[1;32mexcept\u001b[0m \u001b[0mException\u001b[0m\u001b[1;33m:\u001b[0m\u001b[1;33m\u001b[0m\u001b[1;33m\u001b[0m\u001b[0m\n\u001b[0;32m   1053\u001b[0m                 \u001b[0mself\u001b[0m\u001b[1;33m.\u001b[0m\u001b[0mlog\u001b[0m\u001b[1;33m.\u001b[0m\u001b[0mwarning\u001b[0m\u001b[1;33m(\u001b[0m\u001b[1;34m\"Invalid Message:\"\u001b[0m\u001b[1;33m,\u001b[0m \u001b[0mexc_info\u001b[0m\u001b[1;33m=\u001b[0m\u001b[1;32mTrue\u001b[0m\u001b[1;33m)\u001b[0m\u001b[1;33m\u001b[0m\u001b[1;33m\u001b[0m\u001b[0m\n",
      "\u001b[1;31mKeyboardInterrupt\u001b[0m: Interrupted by user"
     ]
    }
   ],
   "source": [
    "print('''\n",
    "*******************************************************************************\n",
    "          |                   |                  |                     |\n",
    " _________|________________.=\"\"_;=.______________|_____________________|_______\n",
    "|                   |  ,-\"_,=\"\"     `\"=.|                  |\n",
    "|___________________|__\"=._o`\"-._        `\"=.______________|___________________\n",
    "          |                `\"=._o`\"=._      _`\"=._                     |\n",
    " _________|_____________________:=._o \"=._.\"_.-=\"'\"=.__________________|_______\n",
    "|                   |    __.--\" , ; `\"=._o.\" ,-\"\"\"-._ \".   |\n",
    "|___________________|_._\"  ,. .` ` `` ,  `\"-._\"-._   \". '__|___________________\n",
    "          |           |o`\"=._` , \"` `; .\". ,  \"-._\"-._; ;              |\n",
    " _________|___________| ;`-.o`\"=._; .\" ` '`.\"\\` . \"-._ /_______________|_______\n",
    "|                   | |o;    `\"-.o`\"=._``  '` \" ,__.--o;   |\n",
    "|___________________|_| ;     (#) `-.o `\"=.`_.--\"_o.-; ;___|___________________\n",
    "____/______/______/___|o;._    \"      `\".o|o_.--\"    ;o;____/______/______/____\n",
    "/______/______/______/_\"=._o--._        ; | ;        ; ;/______/______/______/_\n",
    "____/______/______/______/__\"=._o--._   ;o|o;     _._;o;____/______/______/____\n",
    "/______/______/______/______/____\"=._o._; | ;_.--\"o.--\"_/______/______/______/_\n",
    "____/______/______/______/______/_____\"=.o|o_.--\"\"___/______/______/______/____\n",
    "/______/______/______/______/______/______/______/______/______/______/_____ /\n",
    "*******************************************************************************\n",
    "''')\n",
    "print(\"Welcome to Treasure Island.\")\n",
    "print(\"Your mission is to find the treasure.\") \n",
    "\n",
    "#https://www.draw.io/?lightbox=1&highlight=0000ff&edit=_blank&layers=1&nav=1&title=Treasure%20Island%20Conditional.drawio#Uhttps%3A%2F%2Fdrive.google.com%2Fuc%3Fid%3D1oDe4ehjWZipYRsVfeAx2HyB7LCQ8_Fvi%26export%3Ddownload\n",
    "\n",
    "#Write your code below this line 👇\n",
    "\n",
    "\n",
    "choice1 = input(\"Do you want to go left or right? L/R?\")\n",
    "\n",
    "if choice1 == \"L\":\n",
    "    L = input(\"Do you want to swim or wait?\")\n",
    "    if L == \"wait\":\n",
    "        door = input(\"Which door? Red or Blue or Yellow?\")\n",
    "        if door == \"Red\":\n",
    "            print(\"Burnt by fire. Game Over.\")\n",
    "        elif door == \"Blue\":\n",
    "            print(\"Eaten by beasts. Game Over.\")\n",
    "        elif door == \"Yellow\":\n",
    "            print(\"You Win!\")\n",
    "        else:\n",
    "            print(\"Game over.\")\n",
    "    else:\n",
    "        print(\"Attacked by trout. Game over.\")\n",
    "else:\n",
    "    print(\"Fall into a hole. Game over\")"
   ]
  },
  {
   "cell_type": "code",
   "execution_count": null,
   "id": "479cb40b",
   "metadata": {},
   "outputs": [],
   "source": []
  },
  {
   "cell_type": "code",
   "execution_count": null,
   "id": "865466e1",
   "metadata": {},
   "outputs": [],
   "source": []
  }
 ],
 "metadata": {
  "kernelspec": {
   "display_name": "Python 3 (ipykernel)",
   "language": "python",
   "name": "python3"
  },
  "language_info": {
   "codemirror_mode": {
    "name": "ipython",
    "version": 3
   },
   "file_extension": ".py",
   "mimetype": "text/x-python",
   "name": "python",
   "nbconvert_exporter": "python",
   "pygments_lexer": "ipython3",
   "version": "3.8.8"
  }
 },
 "nbformat": 4,
 "nbformat_minor": 5
}
