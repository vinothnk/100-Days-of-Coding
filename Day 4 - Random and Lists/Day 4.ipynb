{
 "cells": [
  {
   "cell_type": "markdown",
   "id": "fc2694c4",
   "metadata": {},
   "source": [
    "## Import Random"
   ]
  },
  {
   "cell_type": "code",
   "execution_count": 4,
   "id": "16334f77",
   "metadata": {},
   "outputs": [
    {
     "name": "stdout",
     "output_type": "stream",
     "text": [
      "4\n"
     ]
    }
   ],
   "source": [
    "import random\n",
    "\n",
    "random_number = random.randint(1, 10)\n",
    "#variable = importing from random package. randint(x, y) where x and y is the range for random.\n",
    "print(random_number)"
   ]
  },
  {
   "cell_type": "markdown",
   "id": "bb227670",
   "metadata": {},
   "source": [
    "## Importing modules from a .py file"
   ]
  },
  {
   "cell_type": "code",
   "execution_count": 10,
   "id": "e6ad642d",
   "metadata": {},
   "outputs": [
    {
     "name": "stdout",
     "output_type": "stream",
     "text": [
      "3.14159246\n"
     ]
    }
   ],
   "source": [
    "import my_module\n",
    "\n",
    "print(my_module.pi)"
   ]
  },
  {
   "cell_type": "code",
   "execution_count": 11,
   "id": "b5a2ed11",
   "metadata": {},
   "outputs": [
    {
     "name": "stdout",
     "output_type": "stream",
     "text": [
      "0.6067139456651444\n"
     ]
    }
   ],
   "source": [
    "random_float = random.random()\n",
    "print(random_float)"
   ]
  },
  {
   "cell_type": "code",
   "execution_count": 18,
   "id": "c29cc6af",
   "metadata": {},
   "outputs": [
    {
     "name": "stdout",
     "output_type": "stream",
     "text": [
      "4.000249522598188\n",
      "0.009410742038883368\n"
     ]
    }
   ],
   "source": [
    "#random float number between 0 and 5\n",
    "random_float2 = random.uniform(0,5)\n",
    "print(random_float2)\n",
    "\n",
    "#or\n",
    "\n",
    "random_float2 = random.random() * 5\n",
    "print(random_float2)"
   ]
  },
  {
   "cell_type": "code",
   "execution_count": 25,
   "id": "46e3c71b",
   "metadata": {},
   "outputs": [
    {
     "name": "stdout",
     "output_type": "stream",
     "text": [
      "1\n",
      "Heads\n"
     ]
    }
   ],
   "source": [
    "import random\n",
    "\n",
    "random_side = random.randint(0, 1)\n",
    "print(random_side)\n",
    "\n",
    "if random_side == 1:\n",
    "    print(\"Heads\")\n",
    "else:\n",
    "    print(\"Tails\")"
   ]
  },
  {
   "cell_type": "code",
   "execution_count": null,
   "id": "c0a83a98",
   "metadata": {},
   "outputs": [],
   "source": []
  },
  {
   "cell_type": "markdown",
   "id": "0d6b9a93",
   "metadata": {},
   "source": [
    "## Lists"
   ]
  },
  {
   "cell_type": "code",
   "execution_count": 34,
   "id": "f1c0cbd1",
   "metadata": {},
   "outputs": [],
   "source": [
    "#list structure\n",
    "list = [\"item1\", \"item2\", \"item3\"]\n",
    "\n"
   ]
  },
  {
   "cell_type": "code",
   "execution_count": 46,
   "id": "f5c21233",
   "metadata": {},
   "outputs": [
    {
     "name": "stdout",
     "output_type": "stream",
     "text": [
      "['Delaware', 'Pennsylvania', 'New Jersey', 'Georgia', 'Connecticut', 'Massachusetts', 'Maryland', 'South Carolina', 'New Hampshire', 'Virginia', 'New York', 'North Carolina', 'Rhode Island', 'Vermont', 'Kentucky', 'Tennessee', 'Ohio', 'Louisiana', 'Indiana', 'Mississippi', 'Illinois', 'Alabama', 'Maine', 'Missouri', 'Arkansas', 'Michigan', 'Florida', 'Texas', 'Iowa', 'Wisconsin', 'California', 'Minnesota', 'Oregon', 'Kansas', 'West Virginia', 'Nevada', 'Nebraska', 'Colorado', 'North Dakota', 'South Dakota', 'Montana', 'Washington', 'Idaho', 'Wyoming', 'Utah', 'Oklahoma', 'New Mexico', 'Arizona', 'Alaska', 'Hawaii']\n",
      "50\n",
      "['Delaware', 'Pennsylvania', 'New Jersey', 'Georgia', 'Connecticut', 'Massachusetts', 'Maryland', 'South Carolina', 'New Hampshire', 'Virginia']\n",
      "['Utah', 'Oklahoma', 'New Mexico', 'Arizona', 'Alaska', 'Hawaii']\n"
     ]
    }
   ],
   "source": [
    "states_of_america = [\"Delaware\", \"Pennsylvania\", \"New Jersey\", \"Georgia\", \"Connecticut\", \"Massachusetts\", \"Maryland\",\n",
    "                     \"South Carolina\", \"New Hampshire\", \"Virginia\", \"New York\", \"North Carolina\", \"Rhode Island\", \n",
    "                     \"Vermont\", \"Kentucky\", \"Tennessee\", \"Ohio\", \"Louisiana\", \"Indiana\", \"Mississippi\", \"Illinois\",\n",
    "                     \"Alabama\", \"Maine\", \"Missouri\", \"Arkansas\", \"Michigan\", \"Florida\", \"Texas\", \"Iowa\", \"Wisconsin\",\n",
    "                     \"California\", \"Minnesota\", \"Oregon\", \"Kansas\", \"West Virginia\", \"Nevada\", \"Nebraska\", \"Colorado\",\n",
    "                     \"North Dakota\", \"South Dakota\", \"Montana\", \"Washington\", \"Idaho\", \"Wyoming\", \"Utah\", \"Oklahoma\", \n",
    "                     \"New Mexico\", \"Arizona\", \"Alaska\", \"Hawaii\"]\n",
    "\n",
    "print(states_of_america)\n",
    "\n",
    "\n",
    "#finding length of list\n",
    "length = len(states_of_america)\n",
    "print(length) #50\n",
    "#range is 0 to 50\n",
    "\n",
    "\n",
    "print(states_of_america[0:10])\n",
    "\n",
    "print(states_of_america[-6:]) #counting index backwards. 1st number is beginning, 2nd no is ending."
   ]
  },
  {
   "cell_type": "code",
   "execution_count": 50,
   "id": "396e64ac",
   "metadata": {},
   "outputs": [
    {
     "name": "stdout",
     "output_type": "stream",
     "text": [
      "['Strawberries', 'Spinach', 'Kale', 'Nectarines', 'Apples', 'Grapes', 'Peaches', 'Cherries', 'Pears', 'Tomatoes', 'Celery', 'Potatoes']\n",
      "['Strawberries', \"Popeye's Food\", 'Kale', 'Nectarines', 'Apples', 'Grapes', 'Peaches', 'Cherries', 'Pears', 'Tomatoes', 'Celery', 'Potatoes']\n",
      "['Strawberries', \"Popeye's Food\", 'Kale', 'Nectarines', 'Apples', 'Grapes', 'Peaches', 'Cherries', 'Pears', 'Tomatoes', 'Celery', 'Potatoes', 'Watermelon']\n",
      "['Strawberries', \"Popeye's Food\", 'Kale', 'Nectarines', 'Apples', 'Grapes', 'Peaches', 'Cherries', 'Pears', 'Tomatoes', 'Celery', 'Potatoes', 'Watermelon', 'Pineapple', 'Cantolupe', 'Spinach']\n"
     ]
    }
   ],
   "source": [
    "dirty_dozen = [\"Strawberries\", \"Spinach\", \"Kale\", \"Nectarines\", \"Apples\", \"Grapes\", \"Peaches\",\n",
    "               \"Cherries\", \"Pears\", \"Tomatoes\", \"Celery\", \"Potatoes\"]\n",
    "\n",
    "print(dirty_dozen)\n",
    "\n",
    "dirty_dozen[1] = \"Popeye's Food\" #changing the item in the specified index with a new variable.\n",
    "print(dirty_dozen)\n",
    "\n",
    "dirty_dozen.append(\"Watermelon\") #adding a new item into the list.\n",
    "print(dirty_dozen)\n",
    "\n",
    "dirty_dozen.extend([\"Pineapple\", \"Cantolupe\", \"Spinach\"]) #extend means adding multiple items into the list.\n",
    "print(dirty_dozen)"
   ]
  },
  {
   "cell_type": "code",
   "execution_count": null,
   "id": "35635c59",
   "metadata": {},
   "outputs": [],
   "source": []
  },
  {
   "cell_type": "markdown",
   "id": "d4c6110f",
   "metadata": {},
   "source": [
    "## Banker Roulette"
   ]
  },
  {
   "cell_type": "code",
   "execution_count": 11,
   "id": "6b8e8f7f",
   "metadata": {},
   "outputs": [
    {
     "name": "stdout",
     "output_type": "stream",
     "text": [
      "Create a seed number: 1\n",
      "Give me everybody's names, separated by a comma. clement, clarence, emily, christy, jeremy, celena, dena, vinoth\n",
      "2\n",
      "emily\n",
      "emily is going to buy the meal today!\n"
     ]
    }
   ],
   "source": [
    "import random\n",
    "\n",
    "# 🚨 Don't change the code below 👇\n",
    "test_seed = int(input(\"Create a seed number: \"))\n",
    "random.seed(test_seed)\n",
    "\n",
    "# Split string method\n",
    "names_string = input(\"Give me everybody's names, separated by a comma. \")\n",
    "names = names_string.split(\", \")\n",
    "# 🚨 Don't change the code above 👆\n",
    "\n",
    "#Write your code below this line 👇\n",
    "#print(len(names))\n",
    "num_items = len(names)\n",
    "\n",
    "#print(type(names))\n",
    "\n",
    "random_no = random.randint(0, num_items - 1)\n",
    "#print(random_no)\n",
    "\n",
    "person = names[random_no]\n",
    "#print(person)\n",
    "\n",
    "print(f\"{person} is going to buy the meal today!\")"
   ]
  },
  {
   "cell_type": "markdown",
   "id": "4da23c74",
   "metadata": {},
   "source": [
    "## Index Errors and Nested Lists"
   ]
  },
  {
   "cell_type": "code",
   "execution_count": 14,
   "id": "04e54105",
   "metadata": {},
   "outputs": [
    {
     "name": "stdout",
     "output_type": "stream",
     "text": [
      "50\n",
      "Hawaii\n"
     ]
    }
   ],
   "source": [
    "states_of_america = [\"Delaware\", \"Pennsylvania\", \"New Jersey\", \"Georgia\", \"Connecticut\", \"Massachusetts\", \"Maryland\",\n",
    "                     \"South Carolina\", \"New Hampshire\", \"Virginia\", \"New York\", \"North Carolina\", \"Rhode Island\", \n",
    "                     \"Vermont\", \"Kentucky\", \"Tennessee\", \"Ohio\", \"Louisiana\", \"Indiana\", \"Mississippi\", \"Illinois\",\n",
    "                     \"Alabama\", \"Maine\", \"Missouri\", \"Arkansas\", \"Michigan\", \"Florida\", \"Texas\", \"Iowa\", \"Wisconsin\",\n",
    "                     \"California\", \"Minnesota\", \"Oregon\", \"Kansas\", \"West Virginia\", \"Nevada\", \"Nebraska\", \"Colorado\",\n",
    "                     \"North Dakota\", \"South Dakota\", \"Montana\", \"Washington\", \"Idaho\", \"Wyoming\", \"Utah\", \"Oklahoma\", \n",
    "                     \"New Mexico\", \"Arizona\", \"Alaska\", \"Hawaii\"]\n",
    "\n",
    "num_of_states = len(states_of_america)\n",
    "print(num_of_states)\n",
    "\n",
    "#print(states_of_america[num_of_states]) -> index error - list out of range -> 50 means 0:49\n",
    "\n",
    "print(states_of_america[num_of_states - 1]) #49th index\n"
   ]
  },
  {
   "cell_type": "code",
   "execution_count": 18,
   "id": "fbd3318c",
   "metadata": {},
   "outputs": [
    {
     "name": "stdout",
     "output_type": "stream",
     "text": [
      "[['Strawberries', 'Nectarines', 'Apples', 'Grapes', 'Peaches', 'Cherries', 'Pears'], ['Spinach', 'Kale', 'Tomatoes', 'Celery', 'Potatoes']]\n",
      "2\n",
      "['Strawberries', 'Nectarines', 'Apples', 'Grapes', 'Peaches', 'Cherries', 'Pears']\n",
      "['Spinach', 'Kale', 'Tomatoes', 'Celery', 'Potatoes']\n"
     ]
    }
   ],
   "source": [
    "dirty_dozen = [\"Strawberries\", \"Spinach\", \"Kale\", \"Nectarines\", \"Apples\", \"Grapes\", \"Peaches\",\n",
    "               \"Cherries\", \"Pears\", \"Tomatoes\", \"Celery\", \"Potatoes\"]\n",
    "\n",
    "fruits = [\"Strawberries\", \"Nectarines\", \"Apples\", \"Grapes\", \"Peaches\", \"Cherries\", \"Pears\"]\n",
    "vegetables = [\"Spinach\", \"Kale\", \"Tomatoes\", \"Celery\", \"Potatoes\"]\n",
    "\n",
    "dirty_dozen = [fruits, vegetables] #nested lists - lists inside a list\n",
    "print(dirty_dozen)\n",
    "\n",
    "print(len(dirty_dozen))\n",
    "\n",
    "#if i want the fruits list\n",
    "print(dirty_dozen[0])\n",
    "\n",
    "#vegetables list\n",
    "print(dirty_dozen[1])"
   ]
  },
  {
   "cell_type": "code",
   "execution_count": 20,
   "id": "446ed04a",
   "metadata": {},
   "outputs": [
    {
     "name": "stdout",
     "output_type": "stream",
     "text": [
      "Pears\n",
      "['Strawberries', 'Nectarines', 'Apples', 'Grapes', 'Peaches', 'Cherries', 'Melons', 'Lemons']\n"
     ]
    }
   ],
   "source": [
    "#Quiz Q2\n",
    "\n",
    "fruits = [\"Strawberries\", \"Nectarines\", \"Apples\", \"Grapes\", \"Peaches\", \"Cherries\", \"Pears\"]\n",
    "print(fruits[-1])\n",
    "fruits[-1] = \"Melons\"\n",
    "fruits.append(\"Lemons\")\n",
    "print(fruits)"
   ]
  },
  {
   "cell_type": "code",
   "execution_count": 21,
   "id": "cb03c292",
   "metadata": {},
   "outputs": [
    {
     "name": "stdout",
     "output_type": "stream",
     "text": [
      "Kale\n"
     ]
    }
   ],
   "source": [
    "#Quiz Q3\n",
    "\n",
    "fruits = [\"Strawberries\", \"Nectarines\", \"Apples\", \"Grapes\", \"Peaches\", \"Cherries\", \"Pears\"]\n",
    "vegetables = [\"Spinach\", \"Kale\", \"Tomatoes\", \"Celery\", \"Potatoes\"]\n",
    " \n",
    "dirty_dozen = [fruits, vegetables]\n",
    " \n",
    "print(dirty_dozen[1][1]) #referring to index 1 of dirty_dozen list, then index 1 of vegetables list"
   ]
  },
  {
   "cell_type": "markdown",
   "id": "7257fc32",
   "metadata": {},
   "source": [
    "## Treasure Map"
   ]
  },
  {
   "cell_type": "code",
   "execution_count": 47,
   "id": "aede0c6b",
   "metadata": {},
   "outputs": [
    {
     "name": "stdout",
     "output_type": "stream",
     "text": [
      "['⬜️', '⬜️', '⬜️']\n",
      "['⬜️', '⬜️', '⬜️']\n",
      "['⬜️', '⬜️', '⬜️']\n",
      "Where do you want to put the treasure? 23\n",
      "['⬜️', '⬜️', '⬜️']\n",
      "['⬜️', '⬜️', '⬜️']\n",
      "['⬜️', 'X', '⬜️']\n",
      "['⬜️', '⬜️', '⬜️']\n",
      "['⬜️', '⬜️', '⬜️']\n",
      "['⬜️', '⬜️', '⬜️']\n",
      "Where do you want to put the treasure? 23\n",
      "['⬜️', '⬜️', '⬜️']\n",
      "['⬜️', '⬜️', '⬜️']\n",
      "['⬜️', 'X', '⬜️']\n"
     ]
    }
   ],
   "source": [
    "# 🚨 Don't change the code below 👇\n",
    "row1 = [\"⬜️\",\"⬜️\",\"⬜️\"]\n",
    "row2 = [\"⬜️\",\"⬜️\",\"⬜️\"]\n",
    "row3 = [\"⬜️\",\"⬜️\",\"⬜️\"]\n",
    "map = [row1, row2, row3]\n",
    "print(f\"{row1}\\n{row2}\\n{row3}\")\n",
    "position = input(\"Where do you want to put the treasure? \")\n",
    "# 🚨 Don't change the code above 👆\n",
    "\n",
    "#Write your code below this row 👇\n",
    "#23\n",
    "\n",
    "horizontal = int(position[0])\n",
    "vertical = int(position[1])\n",
    "\n",
    "#print(horizontal, vertical)\n",
    "\n",
    "selected_row = map[vertical - 1] #positioning the vertical rows using the 2nd digit in the string\n",
    "selected_row[horizontal - 1] = \"X\" #selected_row[3-1]\n",
    "\n",
    "#Write your code above this row 👆\n",
    "\n",
    "# 🚨 Don't change the code below 👇\n",
    "print(f\"{row1}\\n{row2}\\n{row3}\")\n",
    "\n",
    "\n",
    "\n",
    "#OR\n",
    "\n",
    "\n",
    "# 🚨 Don't change the code below 👇\n",
    "row1 = [\"⬜️\",\"⬜️\",\"⬜️\"]\n",
    "row2 = [\"⬜️\",\"⬜️\",\"⬜️\"]\n",
    "row3 = [\"⬜️\",\"⬜️\",\"⬜️\"]\n",
    "map = [row1, row2, row3]\n",
    "print(f\"{row1}\\n{row2}\\n{row3}\")\n",
    "position = input(\"Where do you want to put the treasure? \")\n",
    "# 🚨 Don't change the code above 👆\n",
    "\n",
    "#Write your code below this row 👇\n",
    "#23\n",
    "\n",
    "horizontal = int(position[0])\n",
    "vertical = int(position[1])\n",
    "\n",
    "#print(horizontal, vertical)\n",
    "\n",
    "map[vertical - 1][horizontal - 1] = \"X\"\n",
    "\n",
    "#Write your code above this row 👆\n",
    "\n",
    "# 🚨 Don't change the code below 👇\n",
    "print(f\"{row1}\\n{row2}\\n{row3}\")"
   ]
  },
  {
   "cell_type": "markdown",
   "id": "f77082cc",
   "metadata": {},
   "source": [
    "## ROCK PAPER SCISSORS!"
   ]
  },
  {
   "cell_type": "code",
   "execution_count": 91,
   "id": "88fbecf4",
   "metadata": {},
   "outputs": [
    {
     "name": "stdout",
     "output_type": "stream",
     "text": [
      "What do you choose? Type 0 for Rock, 1 for Paper or 2 for Scissors.1\n",
      "Paper\n",
      "Rock\n",
      "You won!\n",
      "Computer chose 1\n"
     ]
    },
    {
     "ename": "TypeError",
     "evalue": "'>' not supported between instances of 'str' and 'int'",
     "output_type": "error",
     "traceback": [
      "\u001b[1;31m---------------------------------------------------------------------------\u001b[0m",
      "\u001b[1;31mTypeError\u001b[0m                                 Traceback (most recent call last)",
      "\u001b[1;32m~\\AppData\\Local\\Temp/ipykernel_10008/661030386.py\u001b[0m in \u001b[0;36m<module>\u001b[1;34m\u001b[0m\n\u001b[0;32m     66\u001b[0m \u001b[1;32melif\u001b[0m \u001b[0mcomputer_choice\u001b[0m \u001b[1;33m==\u001b[0m \u001b[0muser\u001b[0m\u001b[1;33m:\u001b[0m\u001b[1;33m\u001b[0m\u001b[1;33m\u001b[0m\u001b[0m\n\u001b[0;32m     67\u001b[0m     \u001b[0mprint\u001b[0m\u001b[1;33m(\u001b[0m\u001b[1;34m\"Its a draw.\"\u001b[0m\u001b[1;33m)\u001b[0m\u001b[1;33m\u001b[0m\u001b[1;33m\u001b[0m\u001b[0m\n\u001b[1;32m---> 68\u001b[1;33m \u001b[1;32melif\u001b[0m \u001b[0muser\u001b[0m \u001b[1;33m>\u001b[0m \u001b[0mcomputer_choice\u001b[0m\u001b[1;33m:\u001b[0m\u001b[1;33m\u001b[0m\u001b[1;33m\u001b[0m\u001b[0m\n\u001b[0m\u001b[0;32m     69\u001b[0m     \u001b[0mprint\u001b[0m\u001b[1;33m(\u001b[0m\u001b[1;34m\"You win!.\"\u001b[0m\u001b[1;33m)\u001b[0m\u001b[1;33m\u001b[0m\u001b[1;33m\u001b[0m\u001b[0m\n\u001b[0;32m     70\u001b[0m \u001b[1;32melif\u001b[0m \u001b[0mcomputer_choice\u001b[0m \u001b[1;33m>\u001b[0m \u001b[0muser\u001b[0m\u001b[1;33m:\u001b[0m\u001b[1;33m\u001b[0m\u001b[1;33m\u001b[0m\u001b[0m\n",
      "\u001b[1;31mTypeError\u001b[0m: '>' not supported between instances of 'str' and 'int'"
     ]
    }
   ],
   "source": [
    "rock = '''\n",
    "    _______\n",
    "---'   ____)\n",
    "      (_____)\n",
    "      (_____)\n",
    "      (____)\n",
    "---.__(___)\n",
    "'''\n",
    "\n",
    "paper = '''\n",
    "    _______\n",
    "---'   ____)____\n",
    "          ______)\n",
    "          _______)\n",
    "         _______)\n",
    "---.__________)\n",
    "'''\n",
    "\n",
    "scissors = '''\n",
    "    _______\n",
    "---'   ____)____\n",
    "          ______)\n",
    "       __________)\n",
    "      (____)\n",
    "---.__(___)\n",
    "'''\n",
    "\n",
    "#Write your code below this line 👇\n",
    "\n",
    "choice = input(\"What do you choose? Type 0 for Rock, 1 for Paper or 2 for Scissors.\")\n",
    "\n",
    "options = [\"Rock\", \"Paper\", \"Scissors\"]\n",
    "user = options[int(choice)]\n",
    "print(user)\n",
    "\n",
    "random_no = random.randint(0, len(options) - 1)\n",
    "computer = options[random_no]\n",
    "print(computer)\n",
    "\n",
    "if user == \"Rock\" and computer == \"Paper\":\n",
    "    print(\"You lost.\")\n",
    "elif user == \"Rock\" and computer == \"Scissors\":\n",
    "    print(\"You won!\")\n",
    "elif user == \"Scissors\" and computer == \"Paper\":\n",
    "    print(\"You won!\")\n",
    "elif user == \"Paper\" and computer == \"Rock\":\n",
    "    print(\"You won!\")\n",
    "elif user == \"Rock\" and computer == \"Rock\":\n",
    "    print(\"Its a draw.\")\n",
    "elif user == \"Paper\" and computer == \"Paper\":\n",
    "    print(\"Its a draw.\")\n",
    "elif user == \"Scissors\" and computer == \"Scissors\":\n",
    "    print(\"Its a draw.\")\n",
    "else:\n",
    "    print(\"You lost.\")\n",
    "    \n",
    "    \n",
    "    \n",
    "#OR\n",
    "\n",
    "computer_choice = random.randint(0, 2)\n",
    "print(f\"Computer chose {computer_choice}\")\n",
    "\n",
    "if user == 0 and computer_choice == 2:\n",
    "    print(\"You win.\")\n",
    "elif computer_choice == user:\n",
    "    print(\"Its a draw.\")\n",
    "elif user > computer_choice:\n",
    "    print(\"You win!.\")\n",
    "elif computer_choice > user:\n",
    "    print(\"You lost.\")\n",
    "else:\n",
    "    print(\"You typed an invalid number. You lose.\")"
   ]
  },
  {
   "cell_type": "code",
   "execution_count": null,
   "id": "6c1d5f23",
   "metadata": {},
   "outputs": [],
   "source": [
    "#OR\n",
    "import random\n",
    "\n",
    "rock = '''\n",
    "    _______\n",
    "---'   ____)\n",
    "      (_____)\n",
    "      (_____)\n",
    "      (____)\n",
    "---.__(___)\n",
    "'''\n",
    "\n",
    "paper = '''\n",
    "    _______\n",
    "---'   ____)____\n",
    "          ______)\n",
    "          _______)\n",
    "         _______)\n",
    "---.__________)\n",
    "'''\n",
    "\n",
    "scissors = '''\n",
    "    _______\n",
    "---'   ____)____\n",
    "          ______)\n",
    "       __________)\n",
    "      (____)\n",
    "---.__(___)\n",
    "'''\n",
    "\n",
    "game_images = [rock, paper, scissors]\n",
    "\n",
    "user_choice = int(input(\"What do you choose? Type 0 for Rock, 1 for Paper or 2 for Scissors.\\n\"))\n",
    "print(game_images[user_choice])\n",
    "\n",
    "computer_choice = random.randint(0, 2)\n",
    "print(\"Computer chose:\")\n",
    "print(game_images[computer_choice])\n",
    "\n",
    "if user_choice >= 3 or user_choice < 0: \n",
    "      print(\"You typed an invalid number, you lose!\") \n",
    "elif user_choice == 0 and computer_choice == 2:\n",
    "      print(\"You win!\")\n",
    "elif computer_choice == 0 and user_choice == 2:\n",
    "      print(\"You lose\")\n",
    "elif computer_choice > user_choice:\n",
    "      print(\"You lose\")\n",
    "elif user_choice > computer_choice:\n",
    "      print(\"You win!\")\n",
    "elif computer_choice == user_choice:\n",
    "      print(\"It's a draw\")\n",
    "\n",
    "####### Debugging challenge: #########\n",
    "#Try running this code and type 5.\n",
    "#It will give you an IndexError and point to line 32 as the issue.\n",
    "#But on line 38 we are trying to prevent a crash by detecting\n",
    "#any numbers great than or equal to 3 or less than 0.\n",
    "#So what's going on?\n",
    "#Can you debug the code and fix it?\n",
    "#Solution: https://repl.it/@appbrewery/rock-paper-scissors-debugged-end"
   ]
  }
 ],
 "metadata": {
  "kernelspec": {
   "display_name": "Python 3 (ipykernel)",
   "language": "python",
   "name": "python3"
  },
  "language_info": {
   "codemirror_mode": {
    "name": "ipython",
    "version": 3
   },
   "file_extension": ".py",
   "mimetype": "text/x-python",
   "name": "python",
   "nbconvert_exporter": "python",
   "pygments_lexer": "ipython3",
   "version": "3.8.8"
  }
 },
 "nbformat": 4,
 "nbformat_minor": 5
}
