{
 "cells": [
  {
   "cell_type": "code",
   "execution_count": 1,
   "id": "eb3e8c0a",
   "metadata": {},
   "outputs": [
    {
     "name": "stdout",
     "output_type": "stream",
     "text": [
      "What is your first name?Vinoth\n",
      "What is your last name?LOL\n",
      "Vinoth Lol\n"
     ]
    }
   ],
   "source": [
    "#functions with output\n",
    "\n",
    "def format_name(f_name, l_name):\n",
    "    if f_name == \"\" or l_name == \"\":\n",
    "        return \"Please enter a proper name\"\n",
    "    formatted_f_name = f_name.title()\n",
    "    formatted_l_name = l_name.title()\n",
    "    return f\"{formatted_f_name} {formatted_l_name}\"\n",
    "    print(\"this got printed\")\n",
    "    \n",
    "#print(format_name(input(\"What is your first name?\"), input(\"What is your last name?\")))"
   ]
  },
  {
   "cell_type": "code",
   "execution_count": 22,
   "id": "1bbbf63e",
   "metadata": {},
   "outputs": [
    {
     "name": "stdout",
     "output_type": "stream",
     "text": [
      "Enter a year: 2024\n",
      "Enter a month: 2\n",
      "29\n"
     ]
    }
   ],
   "source": [
    "def is_leap(year):\n",
    "    if year % 4 == 0:\n",
    "        if year % 100 == 0:\n",
    "            if year % 400 == 0:\n",
    "                return (\"leap year.\")\n",
    "            else:\n",
    "                return (\"not leap year.\")\n",
    "        else:\n",
    "            return (\"leap year.\")\n",
    "    else:\n",
    "        return (\"not leap year.\")\n",
    "\n",
    "def days_in_month(year, month):\n",
    "    #if month > 12 or month < 1:\n",
    "        #return \"Invalid Month\"\n",
    "    month_days = [31, 28, 31, 30, 31, 30, 31, 31, 30, 31, 30, 31]\n",
    "    if is_leap(year) and month == 2:\n",
    "        return 29\n",
    "    return month_days[month-1]\n",
    "    \n",
    "#🚨 Do NOT change any of the code below \n",
    "year = int(input(\"Enter a year: \"))\n",
    "month = int(input(\"Enter a month: \"))\n",
    "days = days_in_month(year, month)\n",
    "print(days)"
   ]
  },
  {
   "cell_type": "code",
   "execution_count": null,
   "id": "8bbb8f88",
   "metadata": {},
   "outputs": [],
   "source": []
  }
 ],
 "metadata": {
  "kernelspec": {
   "display_name": "Python 3 (ipykernel)",
   "language": "python",
   "name": "python3"
  },
  "language_info": {
   "codemirror_mode": {
    "name": "ipython",
    "version": 3
   },
   "file_extension": ".py",
   "mimetype": "text/x-python",
   "name": "python",
   "nbconvert_exporter": "python",
   "pygments_lexer": "ipython3",
   "version": "3.8.8"
  }
 },
 "nbformat": 4,
 "nbformat_minor": 5
}
