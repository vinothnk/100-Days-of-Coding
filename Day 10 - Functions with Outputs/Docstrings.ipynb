{
 "cells": [
  {
   "cell_type": "code",
   "execution_count": 1,
   "id": "3c06527a",
   "metadata": {},
   "outputs": [
    {
     "name": "stdout",
     "output_type": "stream",
     "text": [
      "What is your first name?viNOtH\n",
      "What is your last name?LoL\n",
      "Vinoth Lol\n"
     ]
    }
   ],
   "source": [
    "#functions with output\n",
    "\n",
    "def format_name(f_name, l_name):\n",
    "    \"\"\"Takes a first and last name and format it to the \n",
    "    title case version of the name.\"\"\"\n",
    "    if f_name == \"\" or l_name == \"\":\n",
    "        return \"Please enter a proper name\"\n",
    "    formatted_f_name = f_name.title()\n",
    "    formatted_l_name = l_name.title()\n",
    "    return f\"{formatted_f_name} {formatted_l_name}\"\n",
    "    print(\"this got printed\")\n",
    "    \n",
    "#print(format_name(input(\"What is your first name?\"), input(\"What is your last name?\")))"
   ]
  },
  {
   "cell_type": "code",
   "execution_count": null,
   "id": "bb2d086b",
   "metadata": {},
   "outputs": [],
   "source": []
  }
 ],
 "metadata": {
  "kernelspec": {
   "display_name": "Python 3 (ipykernel)",
   "language": "python",
   "name": "python3"
  },
  "language_info": {
   "codemirror_mode": {
    "name": "ipython",
    "version": 3
   },
   "file_extension": ".py",
   "mimetype": "text/x-python",
   "name": "python",
   "nbconvert_exporter": "python",
   "pygments_lexer": "ipython3",
   "version": "3.8.8"
  }
 },
 "nbformat": 4,
 "nbformat_minor": 5
}
