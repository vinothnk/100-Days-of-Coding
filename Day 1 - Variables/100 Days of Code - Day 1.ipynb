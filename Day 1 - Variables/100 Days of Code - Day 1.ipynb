{
 "cells": [
  {
   "cell_type": "markdown",
   "id": "b2b7f0b8",
   "metadata": {},
   "source": [
    "Instructions\n",
    "Write a program in main.py that prints the same notes from the previous lesson using what you have learnt about the Python print function.\n",
    "\n",
    "Warning: The output in your program should match the example output shown below exactly, character for character, even spaces and symbols should be identical, otherwise the tests won't pass.\n",
    "\n",
    "Example Output\n",
    "After you have written your code, you should run your program and it should print the following:\n",
    "\n",
    "Day 1 - Python Print Function\n",
    "The function is declared like this:\n",
    "print('what to print')"
   ]
  },
  {
   "cell_type": "code",
   "execution_count": 13,
   "id": "575ee093",
   "metadata": {},
   "outputs": [
    {
     "name": "stdout",
     "output_type": "stream",
     "text": [
      "Day 1 - Python Print Function\n",
      "The function is declared like this:\n",
      "print('what to print')\n"
     ]
    }
   ],
   "source": [
    "#print function\n",
    "\n",
    "#Write your code below this line 👇\n",
    "print(\"Day 1 - Python Print Function\")\n",
    "print(\"The function is declared like this:\")\n",
    "print(\"print('what to print')\")\n",
    "\n",
    "# '' is used for code\n",
    "# \"\" is used for strings\n",
    "#if using for print -> "
   ]
  },
  {
   "cell_type": "code",
   "execution_count": 14,
   "id": "ad820db5",
   "metadata": {
    "scrolled": true
   },
   "outputs": [
    {
     "name": "stdout",
     "output_type": "stream",
     "text": [
      "Hello World\n",
      "Hello World\n",
      " Hello World\n",
      "---------------------------------------\n",
      "helloworld\n",
      "Hello World\n",
      "Hello World\n"
     ]
    }
   ],
   "source": [
    "#printing in multiple lines\n",
    "\n",
    "print(\"Hello World\\nHello World\\n Hello World\")\n",
    "\n",
    "#combining different strings\n",
    "\n",
    "print(\"---------------------------------------\")\n",
    "\n",
    "#string concatenation\n",
    "\n",
    "print(\"hello\"+\"world\") # no space\n",
    "print(\"Hello\" + \" \" + \"World\") #with space as a string\n",
    "print(\"Hello \" + \"World\") #with space inside a string"
   ]
  },
  {
   "cell_type": "code",
   "execution_count": null,
   "id": "56ac1ac0",
   "metadata": {},
   "outputs": [],
   "source": []
  },
  {
   "cell_type": "markdown",
   "id": "76933149",
   "metadata": {},
   "source": [
    "Instructions\n",
    "Look at the code in the code editor on the right. There are errors in all of the lines of code. Fix the code so that it runs without errors.\n",
    "\n",
    "Warning: The output in your program should match the example output shown below exactly, character for character, even spaces and symbols should be identical, otherwise the tests won't pass.\n",
    "\n",
    "Example Output\n",
    "When you run your program, it should print the following:\n",
    "\n",
    "Day 1 - String Manipulation\n",
    "String Concatenation is done with the \"+\" sign.\n",
    "e.g. print(\"Hello \" + \"world\")\n",
    "New lines can be created with a backslash and n."
   ]
  },
  {
   "cell_type": "code",
   "execution_count": 12,
   "id": "00352e14",
   "metadata": {},
   "outputs": [
    {
     "name": "stdout",
     "output_type": "stream",
     "text": [
      "Day 1 - String Manipulation\n",
      "String Concatenation is done with the \"+\" sign.\n",
      "e.g. print(\"Hello \" + \"world\")\n",
      "New lines can be created with a backslash and n.\n"
     ]
    }
   ],
   "source": [
    "#debugging exercise\n",
    "\n",
    "#Fix the code below 👇\n",
    "\n",
    "print(\"Day 1 - String Manipulation\")\n",
    "print('String Concatenation is done with the \"+\" sign.')\n",
    "print('e.g. print(\"Hello \" + \"world\")')\n",
    "print(\"New lines can be created with a backslash and n.\")"
   ]
  },
  {
   "cell_type": "code",
   "execution_count": null,
   "id": "a96d0594",
   "metadata": {},
   "outputs": [],
   "source": []
  },
  {
   "cell_type": "markdown",
   "id": "d95fde80",
   "metadata": {},
   "source": [
    "Write a program that prints the number of characters in a user's name. You might need to Google for a function that calculates the length of a string.\n",
    "\n",
    "e.g.\n",
    "\n",
    "https://www.google.com/search?q=how+to+get+the+length+of+a+string+in+python+stack+overflow\n",
    "\n",
    "Warning. Your program should work for different inputs. e.g. any name that you input.\n",
    "\n",
    "Example Input\n",
    "Angela\n",
    "Example Output\n",
    "6"
   ]
  },
  {
   "cell_type": "code",
   "execution_count": 15,
   "id": "4e4f849d",
   "metadata": {},
   "outputs": [
    {
     "name": "stdout",
     "output_type": "stream",
     "text": [
      "What is your name?Koundamani\n",
      "10\n"
     ]
    }
   ],
   "source": [
    "#Write your code below this line 👇\n",
    "name = input(\"What is your name?\")\n",
    "name_len = len(name)\n",
    "print(name_len)"
   ]
  },
  {
   "cell_type": "code",
   "execution_count": null,
   "id": "0f27e8fa",
   "metadata": {},
   "outputs": [],
   "source": []
  },
  {
   "cell_type": "markdown",
   "id": "bbd6e012",
   "metadata": {},
   "source": [
    "Instructions\n",
    "Write a program that switches the values stored in the variables a and b.\n",
    "\n",
    "Warning. Do not change the code on lines 1-4 and 12-18. Your program should work for different inputs. e.g. any value of a and b.\n",
    "\n",
    "Example Input\n",
    "a: 3\n",
    "b: 5\n",
    "Example Output\n",
    "a: 5\n",
    "b: 3"
   ]
  },
  {
   "cell_type": "code",
   "execution_count": 16,
   "id": "5c70d8a4",
   "metadata": {
    "scrolled": true
   },
   "outputs": [
    {
     "name": "stdout",
     "output_type": "stream",
     "text": [
      "a: 3\n",
      "b: 5\n",
      "a: 5\n",
      "b: 3\n"
     ]
    }
   ],
   "source": [
    "# 🚨 Don't change the code below 👇\n",
    "a = input(\"a: \")\n",
    "b = input(\"b: \")\n",
    "# 🚨 Don't change the code above 👆\n",
    "\n",
    "####################################\n",
    "#Write your code below this line 👇\n",
    "temp = a\n",
    "a = b\n",
    "b = temp\n",
    "\n",
    "\n",
    "\n",
    "#Write your code above this line 👆\n",
    "####################################\n",
    "\n",
    "# 🚨 Don't change the code below 👇\n",
    "print(\"a: \" + a)\n",
    "print(\"b: \" + b)\n"
   ]
  },
  {
   "cell_type": "code",
   "execution_count": null,
   "id": "f598c4e9",
   "metadata": {},
   "outputs": [],
   "source": []
  },
  {
   "cell_type": "code",
   "execution_count": 17,
   "id": "c58e07b2",
   "metadata": {},
   "outputs": [
    {
     "name": "stdout",
     "output_type": "stream",
     "text": [
      "What is your name?Vinoth\n",
      "Hello Vinoth\n"
     ]
    }
   ],
   "source": [
    "#day 1 ending\n",
    "\n",
    "# input() will get user input in console\n",
    "# Then print() will print the word \"Hello\" and the user input\n",
    "print(\"Hello \" + input(\"What is your name?\"))"
   ]
  },
  {
   "cell_type": "code",
   "execution_count": null,
   "id": "51e8c6c8",
   "metadata": {},
   "outputs": [],
   "source": []
  },
  {
   "cell_type": "markdown",
   "id": "14c7c331",
   "metadata": {},
   "source": [
    "Input, Variables Project - Band Name Generator"
   ]
  },
  {
   "cell_type": "code",
   "execution_count": 3,
   "id": "693ddbee",
   "metadata": {},
   "outputs": [
    {
     "name": "stdout",
     "output_type": "stream",
     "text": [
      "Welcome to the Band Name Generator!\n",
      "What is the name of your city?\n",
      "Singapore\n",
      "What is the name of your pet?\n",
      "Lions\n",
      "Your band name is Singapore Lions!\n",
      "\n"
     ]
    }
   ],
   "source": [
    "#1. Create a greeting for your program.\n",
    "\n",
    "#2. Ask the user for the city that they grew up in.\n",
    "\n",
    "#3. Ask the user for the name of a pet.\n",
    "\n",
    "#4. Combine the name of their city and pet and show them their band name.\n",
    "\n",
    "#5. Make sure the input cursor shows on a new line, see the example at:\n",
    "#   https://replit.com/@appbrewery/band-name-generator-end\n",
    "\n",
    "print(\"Welcome to the Band Name Generator!\")\n",
    "city_name = input(\"What is the name of your city?\\n\")\n",
    "pet_name = input(\"What is the name of your pet?\\n\")\n",
    "print(\"Your band name is \" + city_name + \" \" + pet_name + \"!\\n\")"
   ]
  },
  {
   "cell_type": "code",
   "execution_count": null,
   "id": "457b19c0",
   "metadata": {},
   "outputs": [],
   "source": []
  }
 ],
 "metadata": {
  "kernelspec": {
   "display_name": "Python 3 (ipykernel)",
   "language": "python",
   "name": "python3"
  },
  "language_info": {
   "codemirror_mode": {
    "name": "ipython",
    "version": 3
   },
   "file_extension": ".py",
   "mimetype": "text/x-python",
   "name": "python",
   "nbconvert_exporter": "python",
   "pygments_lexer": "ipython3",
   "version": "3.8.8"
  }
 },
 "nbformat": 4,
 "nbformat_minor": 5
}
