{
 "cells": [
  {
   "cell_type": "markdown",
   "id": "d1f11010",
   "metadata": {},
   "source": [
    "## DATA TYPES"
   ]
  },
  {
   "cell_type": "code",
   "execution_count": 1,
   "id": "af518dff",
   "metadata": {
    "scrolled": true
   },
   "outputs": [
    {
     "name": "stdout",
     "output_type": "stream",
     "text": [
      "Hello\n"
     ]
    }
   ],
   "source": [
    "#string\n",
    "print(\"Hello\")"
   ]
  },
  {
   "cell_type": "markdown",
   "id": "d9cc1325",
   "metadata": {},
   "source": [
    "## String Datatype"
   ]
  },
  {
   "cell_type": "code",
   "execution_count": 7,
   "id": "ba7d8421",
   "metadata": {},
   "outputs": [
    {
     "name": "stdout",
     "output_type": "stream",
     "text": [
      "H\n",
      "---------------------------------------\n",
      "H\n"
     ]
    }
   ],
   "source": [
    "#printing 1st character in a string - subscripting\n",
    "print(\"Hello\"[0])\n",
    "\n",
    "print(\"---------------------------------------\")\n",
    "#using a variable name and the 1st character\n",
    "greeting = \"Hello\"\n",
    "print(greeting[0])\n",
    "\n",
    "print(\"---------------------------------------\")\n",
    "\n"
   ]
  },
  {
   "cell_type": "markdown",
   "id": "df69eb83",
   "metadata": {},
   "source": [
    "## Integar, Float and Boolean Datatype"
   ]
  },
  {
   "cell_type": "code",
   "execution_count": 11,
   "id": "f32f89b9",
   "metadata": {},
   "outputs": [
    {
     "name": "stdout",
     "output_type": "stream",
     "text": [
      "468\n",
      "4.68\n"
     ]
    },
    {
     "data": {
      "text/plain": [
       "False"
      ]
     },
     "execution_count": 11,
     "metadata": {},
     "output_type": "execute_result"
    }
   ],
   "source": [
    "print(123 + 345) #integar as long as number\n",
    "\n",
    "print(1.23 + 3.45) #float number as long as got decimal\n",
    "\n",
    "True\n",
    "False\n",
    "#used in program to test conditions of algorithm"
   ]
  },
  {
   "cell_type": "markdown",
   "id": "83755fbb",
   "metadata": {},
   "source": [
    "## Type error, Type checking and Type conversion"
   ]
  },
  {
   "cell_type": "code",
   "execution_count": 14,
   "id": "d6e98d36",
   "metadata": {},
   "outputs": [
    {
     "name": "stdout",
     "output_type": "stream",
     "text": [
      "What is your name?angela\n",
      "Your name has 6 characters.\n"
     ]
    }
   ],
   "source": [
    "num_char = str(len(input(\"What is your name?\")))\n",
    "print(\"Your name has \" + num_char + \" characters.\")"
   ]
  },
  {
   "cell_type": "code",
   "execution_count": 17,
   "id": "22c4c7fa",
   "metadata": {},
   "outputs": [
    {
     "name": "stdout",
     "output_type": "stream",
     "text": [
      "<class 'float'>\n"
     ]
    }
   ],
   "source": [
    "a = float(123)\n",
    "print(type(a))\n",
    "#use type to identify the type - whether its string/int/float"
   ]
  },
  {
   "cell_type": "markdown",
   "id": "de88a7f5",
   "metadata": {},
   "source": [
    "## Coding Exercise - Data Types"
   ]
  },
  {
   "cell_type": "markdown",
   "id": "b67d6ab1",
   "metadata": {},
   "source": [
    "Instructions\n",
    "Write a program that adds the digits in a 2 digit number. e.g. if the input was 35, then the output should be 3 + 5 = 8\n",
    "\n",
    "Warning. Do not change the code on lines 1-3. Your program should work for different inputs. e.g. any two-digit number.\n",
    "\n",
    "Example Input\n",
    "39\n",
    "Example Output\n",
    "3 + 9 = 12\n",
    "12"
   ]
  },
  {
   "cell_type": "code",
   "execution_count": 21,
   "id": "57a266c5",
   "metadata": {},
   "outputs": [
    {
     "name": "stdout",
     "output_type": "stream",
     "text": [
      "Type a two digit number: 26\n",
      "8\n"
     ]
    }
   ],
   "source": [
    "# 🚨 Don't change the code below 👇\n",
    "two_digit_number = input(\"Type a two digit number: \")\n",
    "# 🚨 Don't change the code above 👆\n",
    "\n",
    "####################################\n",
    "#Write your code below this line 👇\n",
    "#number = input(\"Type a digit number\\n\")\n",
    "\n",
    "first_no = int(two_digit_number[0])\n",
    "second_no = int(two_digit_number[1])\n",
    "addition = first_no + second_no\n",
    "\n",
    "print(addition)"
   ]
  },
  {
   "cell_type": "markdown",
   "id": "8a79f59a",
   "metadata": {},
   "source": [
    "## Mathematical Operations"
   ]
  },
  {
   "cell_type": "code",
   "execution_count": 1,
   "id": "c972d2d2",
   "metadata": {},
   "outputs": [
    {
     "name": "stdout",
     "output_type": "stream",
     "text": [
      "7.0\n"
     ]
    }
   ],
   "source": [
    "print(3 * 3 + 3 / 3 - 3)\n"
   ]
  },
  {
   "cell_type": "code",
   "execution_count": 5,
   "id": "56f3c973",
   "metadata": {},
   "outputs": [
    {
     "name": "stdout",
     "output_type": "stream",
     "text": [
      "3.0\n"
     ]
    }
   ],
   "source": [
    "#change the final value to 3.0\n",
    "\n",
    "print(3 * (3 + (3 / 3) - 3))"
   ]
  },
  {
   "cell_type": "markdown",
   "id": "c1e13cf0",
   "metadata": {},
   "source": [
    "## BMI Calculator \n",
    "Instructions\n",
    "Write a program that calculates the Body Mass Index (BMI) from a user's weight and height.\n",
    "\n",
    "The BMI is a measure of some's weight taking into account their height. e.g. If a tall person and a short person both weigh the same amount, the short person is usually more overweight.\n",
    "\n",
    "The BMI is calculated by dividing a person's weight (in kg) by the square of their height (in m):\n",
    "\n",
    "Warning you should convert the result to a whole number.\n",
    "\n",
    "Example Input\n",
    "weight = 80\n",
    "height = 1.75\n",
    "\n",
    "Example Output\n",
    "80 ÷ (1.75 x 1.75) = 26.122448979591837\n",
    "26"
   ]
  },
  {
   "cell_type": "code",
   "execution_count": 19,
   "id": "7523a131",
   "metadata": {},
   "outputs": [
    {
     "name": "stdout",
     "output_type": "stream",
     "text": [
      "What is your weight in kg?105\n",
      "What is your height in metres?1.75\n"
     ]
    },
    {
     "data": {
      "text/plain": [
       "'Your BMI is 34'"
      ]
     },
     "execution_count": 19,
     "metadata": {},
     "output_type": "execute_result"
    }
   ],
   "source": [
    "weight = float(input(\"What is your weight in kg?\"))\n",
    "height = float(input(\"What is your height in metres?\"))\n",
    "\n",
    "bmi = int(weight / (height * height))\n",
    "#print(bmi)\n",
    "\n",
    "f\"Your BMI is {bmi}\""
   ]
  },
  {
   "cell_type": "markdown",
   "id": "5c17f9cc",
   "metadata": {},
   "source": [
    "## Number Manipulation and F Strings"
   ]
  },
  {
   "cell_type": "code",
   "execution_count": 28,
   "id": "32c8ffa2",
   "metadata": {},
   "outputs": [
    {
     "name": "stdout",
     "output_type": "stream",
     "text": [
      "2.6666666666666665\n",
      "2.67\n",
      "2\n"
     ]
    }
   ],
   "source": [
    "print(8/3) #multiple decimal places\n",
    "\n",
    "#round to 2 decimal places\n",
    "print(round(8 / 3, 2))\n",
    "\n",
    "#floor division\n",
    "print(8 // 3) #changes the output value to a whole number\n",
    "\n"
   ]
  },
  {
   "cell_type": "code",
   "execution_count": 34,
   "id": "8f96f42d",
   "metadata": {},
   "outputs": [
    {
     "name": "stdout",
     "output_type": "stream",
     "text": [
      "Your score is 0, your height is 1.8m, you are winning is True\n"
     ]
    }
   ],
   "source": [
    "score = 0\n",
    "height = 1.8\n",
    "isWinning = True\n",
    "\n",
    "print(f\"Your score is {score}, your height is {height}m, you are winning is {isWinning}\")"
   ]
  },
  {
   "cell_type": "markdown",
   "id": "f9632a05",
   "metadata": {},
   "source": [
    "## Days in Weeks"
   ]
  },
  {
   "cell_type": "markdown",
   "id": "2f8ebd99",
   "metadata": {},
   "source": [
    "Instructions\n",
    "I was reading this article by Tim Urban - Your Life in Weeks and realised just how little time we actually have.\n",
    "\n",
    "https://waitbutwhy.com/2014/05/life-weeks.html\n",
    "\n",
    "Create a program using maths and f-Strings that tells us how many days, weeks, months we have left if we live until 90 years old.\n",
    "\n",
    "It will take your current age as the input and output a message with our time left in this format:\n",
    "\n",
    "You have x days, y weeks, and z months left.\n",
    "\n",
    "Where x, y and z are replaced with the actual calculated numbers.\n",
    "\n",
    "Warning your output should match the Example Output format exactly, even the positions of the commas and full stops."
   ]
  },
  {
   "cell_type": "code",
   "execution_count": 41,
   "id": "787aaf0e",
   "metadata": {},
   "outputs": [
    {
     "name": "stdout",
     "output_type": "stream",
     "text": [
      "What is your current age?37\n",
      "You have 19345 days, 2756 weeks and 636 months left.\n"
     ]
    }
   ],
   "source": [
    "# 🚨 Don't change the code below 👇\n",
    "age = input(\"What is your current age?\")\n",
    "# 🚨 Don't change the code above 👆\n",
    "\n",
    "#Write your code below this line 👇\n",
    "age = int(age)\n",
    "final_age = 90\n",
    "remaining_years = final_age-age\n",
    "\n",
    "days = remaining_years * 365\n",
    "weeks = remaining_years * 52\n",
    "months = remaining_years * 12\n",
    "\n",
    "print(f\"You have {days} days, {weeks} weeks and {months} months left.\")"
   ]
  },
  {
   "cell_type": "code",
   "execution_count": null,
   "id": "1f5b011b",
   "metadata": {},
   "outputs": [],
   "source": []
  },
  {
   "cell_type": "markdown",
   "id": "02314c1f",
   "metadata": {},
   "source": [
    "## Day 2 - Tips Calculator"
   ]
  },
  {
   "cell_type": "code",
   "execution_count": 1,
   "id": "58a1ca0e",
   "metadata": {},
   "outputs": [
    {
     "name": "stdout",
     "output_type": "stream",
     "text": [
      "Welcome to the tip calculator\n",
      "What was your total bill?150\n",
      "150.0\n",
      "What percentage of tips would you like to give? 10, 12 or 15?10\n",
      "0.1\n",
      "165.0\n",
      "How many people would be splitting the bill?4\n",
      "Each person will pay $41.25.\n"
     ]
    }
   ],
   "source": [
    "print(\"Welcome to the tip calculator\")\n",
    "\n",
    "total_bill = float(input(\"What was your total bill?\"))\n",
    "#print(total_bill)\n",
    "\n",
    "\n",
    "\n",
    "tips_percent = int(input(\"What percentage of tips would you like to give? 10, 12 or 15?\"))\n",
    "tips_percent = tips_percent / 100\n",
    "#print(tips_percent)\n",
    "\n",
    "\n",
    "\n",
    "totalbill_tips = total_bill + (tips_percent * total_bill)\n",
    "#print(totalbill_tips)\n",
    "#tips_to_give = total_bill * tips_percent\n",
    "#print(round(tips_to_give, 2))\n",
    "\n",
    "ppl_split = int(input(\"How many people would be splitting the bill?\"))\n",
    "\n",
    "per_pax = (round(totalbill_tips / ppl_split, 2))\n",
    "print(f\"Each person will pay ${per_pax}.\")"
   ]
  },
  {
   "cell_type": "code",
   "execution_count": null,
   "id": "3b5d9eb4",
   "metadata": {},
   "outputs": [],
   "source": []
  }
 ],
 "metadata": {
  "kernelspec": {
   "display_name": "Python 3 (ipykernel)",
   "language": "python",
   "name": "python3"
  },
  "language_info": {
   "codemirror_mode": {
    "name": "ipython",
    "version": 3
   },
   "file_extension": ".py",
   "mimetype": "text/x-python",
   "name": "python",
   "nbconvert_exporter": "python",
   "pygments_lexer": "ipython3",
   "version": "3.8.8"
  }
 },
 "nbformat": 4,
 "nbformat_minor": 5
}
