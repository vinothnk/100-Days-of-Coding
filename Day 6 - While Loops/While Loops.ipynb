{
 "cells": [
  {
   "cell_type": "code",
   "execution_count": 1,
   "id": "c4e7a5ea",
   "metadata": {},
   "outputs": [
    {
     "name": "stdout",
     "output_type": "stream",
     "text": [
      "Hello\n",
      "5\n"
     ]
    }
   ],
   "source": [
    "print(\"Hello\")\n",
    "num_char = len(\"Hello\")\n",
    "print(num_char)"
   ]
  },
  {
   "cell_type": "code",
   "execution_count": 4,
   "id": "ac034dfd",
   "metadata": {},
   "outputs": [
    {
     "name": "stdout",
     "output_type": "stream",
     "text": [
      "Hello\n",
      "Bye\n"
     ]
    }
   ],
   "source": [
    "def my_function():\n",
    "    print(\"Hello\")\n",
    "    print(\"Bye\")\n",
    "    \n",
    "my_function()"
   ]
  },
  {
   "cell_type": "code",
   "execution_count": 5,
   "id": "ddf381f1",
   "metadata": {},
   "outputs": [],
   "source": [
    "# def my_function():\n",
    "#    do this\n",
    "#    then do this\n",
    "#    finally do this\n",
    "\n",
    "#calling function\n",
    "#my_function()"
   ]
  },
  {
   "cell_type": "code",
   "execution_count": null,
   "id": "dabb6cfc",
   "metadata": {},
   "outputs": [],
   "source": [
    "#reeborg jumping hurdles\n",
    "\n",
    "def turn_right():\n",
    "    turn_left()\n",
    "    turn_left()\n",
    "    turn_left()\n",
    "    \n",
    "def jump():\n",
    "    move()\n",
    "    turn_left()\n",
    "    move()\n",
    "    turn_right()\n",
    "    move()\n",
    "    turn_right()\n",
    "    move()\n",
    "    turn_left()\n",
    "    \n",
    "\n",
    "jump()\n",
    "jump()\n",
    "jump()\n",
    "jump()\n",
    "jump()\n",
    "jump()\n",
    "\n",
    "#OR\n",
    "\n",
    "def turn_right():\n",
    "    turn_left()\n",
    "    turn_left()\n",
    "    turn_left()\n",
    "    \n",
    "def jump():\n",
    "    move()\n",
    "    turn_left()\n",
    "    move()\n",
    "    turn_right()\n",
    "    move()\n",
    "    turn_right()\n",
    "    move()\n",
    "    turn_left()\n",
    "    \n",
    "\n",
    "for step in range(6):\n",
    "    jump()"
   ]
  },
  {
   "cell_type": "code",
   "execution_count": null,
   "id": "0aafe09d",
   "metadata": {},
   "outputs": [],
   "source": [
    "#For Loop\n",
    "\n",
    "#for item in list_of_items:\n",
    "    #do something\n",
    "    \n",
    "for number in range(a,b):\n",
    "    print(number)\n",
    "    \n",
    "#While Loop\n",
    "\n",
    "#while something_is_true:\n",
    "    #do something repeatedly"
   ]
  },
  {
   "cell_type": "code",
   "execution_count": null,
   "id": "c48be8e9",
   "metadata": {},
   "outputs": [],
   "source": [
    "#Hurdles 1 - Reeborg\n",
    "\n",
    "def turn_right():\n",
    "    turn_left()\n",
    "    turn_left()\n",
    "    turn_left()\n",
    "    \n",
    "def jump():\n",
    "    move()\n",
    "    turn_left()\n",
    "    move()\n",
    "    turn_right()\n",
    "    move()\n",
    "    turn_right()\n",
    "    move()\n",
    "    turn_left()\n",
    "    \n",
    "\n",
    "#for step in range(6):\n",
    "#    jump()\n",
    "\n",
    "no_of_hurdles = 6\n",
    "\n",
    "while no_of_hurdles > 0:\n",
    "    jump()\n",
    "    no_of_hurdles -= 1\n",
    "    print(no_of_hurdles)"
   ]
  },
  {
   "cell_type": "code",
   "execution_count": 6,
   "id": "25c4ea72",
   "metadata": {},
   "outputs": [
    {
     "ename": "SyntaxError",
     "evalue": "invalid syntax (Temp/ipykernel_11964/4273785946.py, line 36)",
     "output_type": "error",
     "traceback": [
      "\u001b[1;36m  File \u001b[1;32m\"C:\\Users\\wooo_\\AppData\\Local\\Temp/ipykernel_11964/4273785946.py\"\u001b[1;36m, line \u001b[1;32m36\u001b[0m\n\u001b[1;33m    while not at_goal()\u001b[0m\n\u001b[1;37m                       ^\u001b[0m\n\u001b[1;31mSyntaxError\u001b[0m\u001b[1;31m:\u001b[0m invalid syntax\n"
     ]
    }
   ],
   "source": [
    "#Hurdles 2\n",
    "\n",
    "def turn_right():\n",
    "    turn_left()\n",
    "    turn_left()\n",
    "    turn_left()\n",
    "    \n",
    "def jump():\n",
    "    move()\n",
    "    turn_left()\n",
    "    move()\n",
    "    turn_right()\n",
    "    move()\n",
    "    turn_right()\n",
    "    move()\n",
    "    turn_left()\n",
    "    \n",
    "\n",
    "#for step in range(6):\n",
    "#    jump()\n",
    "\n",
    "no_of_hurdles = 6\n",
    "\n",
    "while no_of_hurdles > 0:\n",
    "    jump()\n",
    "    no_of_hurdles -= 1\n",
    "    print(no_of_hurdles)\n",
    "    if at_goal():\n",
    "        break\n",
    "    else:\n",
    "        continue\n",
    "        \n",
    "        \n",
    "#OR\n",
    "\n",
    "while not at_goal():\n",
    "    jump()"
   ]
  },
  {
   "cell_type": "code",
   "execution_count": null,
   "id": "3f3fef8e",
   "metadata": {},
   "outputs": [],
   "source": [
    "##Hurdles 4 - Variable height\n",
    "\n",
    "while not at_goal():\n",
    "    if front_is_clear():\n",
    "        move()\n",
    "        if right_is_clear():\n",
    "            turn_right()\n",
    "    elif wall_in_front():\n",
    "        turn_left()\n",
    "    elif wall_on_right():\n",
    "        move()\n",
    "    else:\n",
    "        if at_goal():\n",
    "            done()"
   ]
  }
 ],
 "metadata": {
  "kernelspec": {
   "display_name": "Python 3 (ipykernel)",
   "language": "python",
   "name": "python3"
  },
  "language_info": {
   "codemirror_mode": {
    "name": "ipython",
    "version": 3
   },
   "file_extension": ".py",
   "mimetype": "text/x-python",
   "name": "python",
   "nbconvert_exporter": "python",
   "pygments_lexer": "ipython3",
   "version": "3.8.8"
  }
 },
 "nbformat": 4,
 "nbformat_minor": 5
}
