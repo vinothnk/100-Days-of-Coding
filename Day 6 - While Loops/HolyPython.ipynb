{
 "cells": [
  {
   "cell_type": "code",
   "execution_count": 7,
   "id": "b62f0573",
   "metadata": {},
   "outputs": [
    {
     "name": "stdout",
     "output_type": "stream",
     "text": [
      "1\n",
      "2\n",
      "3\n",
      "4\n",
      "5\n",
      "6\n",
      "7\n",
      "8\n",
      "9\n",
      "10\n",
      "11\n",
      "12\n",
      "13\n",
      "14\n",
      "15\n",
      "16\n",
      "17\n",
      "18\n",
      "19\n",
      "20\n",
      "21\n",
      "22\n",
      "23\n",
      "24\n",
      "25\n",
      "26\n",
      "27\n",
      "28\n",
      "29\n",
      "30\n",
      "31\n",
      "32\n",
      "33\n",
      "34\n",
      "35\n",
      "36\n",
      "37\n",
      "38\n",
      "39\n",
      "40\n",
      "41\n",
      "42\n",
      "43\n",
      "44\n",
      "45\n",
      "46\n",
      "47\n",
      "48\n",
      "49\n",
      "50\n",
      "51\n",
      "52\n",
      "53\n",
      "54\n",
      "55\n",
      "56\n",
      "57\n",
      "58\n",
      "59\n",
      "60\n",
      "61\n",
      "62\n",
      "63\n",
      "64\n",
      "65\n",
      "66\n",
      "67\n",
      "68\n",
      "69\n",
      "70\n",
      "71\n",
      "72\n",
      "73\n",
      "74\n",
      "75\n",
      "76\n",
      "77\n",
      "78\n",
      "79\n",
      "80\n",
      "81\n",
      "82\n",
      "83\n",
      "84\n",
      "85\n",
      "86\n",
      "87\n",
      "88\n",
      "89\n",
      "90\n",
      "91\n",
      "92\n",
      "93\n",
      "94\n",
      "95\n",
      "96\n",
      "97\n",
      "98\n",
      "99\n",
      "100\n",
      "100\n"
     ]
    }
   ],
   "source": [
    "\n",
    "\n",
    "counter=0\n",
    "total=0\n",
    "\n",
    "#Construct your while loop here.\n",
    "while counter < 100:\n",
    "    counter += 1\n",
    "    total = counter\n",
    "    print(total)\n",
    "    if counter == 100:\n",
    "        break\n",
    "    else:\n",
    "        continue\n",
    "\n",
    "\n",
    "\n",
    "\n",
    "print(total)\n",
    "\n",
    "\n",
    "\n"
   ]
  },
  {
   "cell_type": "code",
   "execution_count": 19,
   "id": "c1744038",
   "metadata": {},
   "outputs": [
    {
     "name": "stdout",
     "output_type": "stream",
     "text": [
      "100 is at index 12.\n"
     ]
    }
   ],
   "source": [
    "st=[10, 99, 98, 85, 45, 59, 65, 66, 76, 12, 35, 13, 100, 80, 95]\n",
    "#Type your code here.\n",
    "\n",
    "i = 0\n",
    "\n",
    "#len(lst)\n",
    "    \n",
    "while i < len(lst):\n",
    "    i += 1\n",
    "    if lst[i] == 100:\n",
    "        print(f\"100 is at index {i}.\")\n",
    "        break"
   ]
  },
  {
   "cell_type": "code",
   "execution_count": 28,
   "id": "f7af39b8",
   "metadata": {},
   "outputs": [
    {
     "name": "stdout",
     "output_type": "stream",
     "text": [
      "['Joe', 'Sarah', 'Mike', 'Jess', 'Matt', 'Greg']\n"
     ]
    }
   ],
   "source": [
    "lst1=[\"Joe\", \"Sarah\", \"Mike\", \"Jess\", \"\", \"Matt\", \"\", \"Greg\"]\n",
    "\n",
    "#Type your code here.\n",
    "new_list = []\n",
    "\n",
    "\n",
    "def name_adder(list):\n",
    "    i = 0\n",
    "    while i < len(lst1):\n",
    "        if lst1[i] != \"\":\n",
    "            new_list.append(lst1[i])\n",
    "        i += 1\n",
    "    return new_list\n",
    "\n",
    "\n",
    "\n",
    "\n",
    "print(name_adder(lst1))"
   ]
  },
  {
   "cell_type": "code",
   "execution_count": 11,
   "id": "81e0535c",
   "metadata": {},
   "outputs": [
    {
     "name": "stdout",
     "output_type": "stream",
     "text": [
      "There is an empty string and returns the new list\n"
     ]
    },
    {
     "data": {
      "text/plain": [
       "['Sam']"
      ]
     },
     "execution_count": 11,
     "metadata": {},
     "output_type": "execute_result"
    }
   ],
   "source": [
    "lst1=[\"Sam\", \"\", \"Ben\", \"Olivia\", \"Alicia\"]\n",
    "i=0\n",
    "\n",
    "new_list = []\n",
    "#Type your answer here.    \n",
    "\n",
    "def name_adder(list):\n",
    "    i=0\n",
    "    while i < len(lst1):\n",
    "        if lst1[i] != \"\":\n",
    "            new_list.append(lst1[i])\n",
    "        else:\n",
    "            print(\"There is an empty string and returns the new list\")\n",
    "            break\n",
    "        i += 1     \n",
    "        #print(\"There is an empty string and returns the new list\")\n",
    "    return new_list\n",
    "    \n",
    "\n",
    "name_adder(lst1)\n",
    "#print(\"There is an empty string and returns the new list\")"
   ]
  },
  {
   "cell_type": "code",
   "execution_count": 12,
   "id": "91ea1383",
   "metadata": {},
   "outputs": [
    {
     "name": "stdout",
     "output_type": "stream",
     "text": [
      "There is an empty string and returns the new list\n"
     ]
    },
    {
     "data": {
      "text/plain": [
       "['Sam']"
      ]
     },
     "execution_count": 12,
     "metadata": {},
     "output_type": "execute_result"
    }
   ],
   "source": [
    "lst1=[\"Sam\", \"\", \"Ben\", \"Olivia\", \"Alicia\"]\n",
    "i=0\n",
    "\n",
    "new_list = []\n",
    "#Type your answer here.    \n",
    "\n",
    "def name_adder(list):\n",
    "    i=0\n",
    "    while i < len(lst1):\n",
    "        if lst1[i] == \"\":\n",
    "            print(\"There is an empty string and returns the new list\")\n",
    "            break\n",
    "        else:\n",
    "            new_list.append(lst1[i])\n",
    "        i += 1     \n",
    "        #print(\"There is an empty string and returns the new list\")\n",
    "    return new_list\n",
    "    \n",
    "\n",
    "name_adder(lst1)\n",
    "#print(\"There is an empty string and returns the new list\")"
   ]
  },
  {
   "cell_type": "markdown",
   "id": "059ce7e7",
   "metadata": {},
   "source": [
    "## Python program to find the average of 10 numbers using while loop"
   ]
  },
  {
   "cell_type": "code",
   "execution_count": 16,
   "id": "4f8b9c2c",
   "metadata": {},
   "outputs": [
    {
     "name": "stdout",
     "output_type": "stream",
     "text": [
      "242\n",
      "24.2\n"
     ]
    }
   ],
   "source": [
    "lst1 = [27, 30, 43, 26, 21, 4, 10, 28, 24, 29]\n",
    "\n",
    "\n",
    "\n",
    "\n",
    "\n",
    "\n",
    "\n",
    "def totaled(list):\n",
    "    counter = 0\n",
    "    total = 0\n",
    "    while counter < len(lst1):\n",
    "        total += lst1[counter]\n",
    "        counter += 1\n",
    "        if counter == len(lst1):\n",
    "            print(total)\n",
    "            #break\n",
    "            average = total/counter\n",
    "    return average\n",
    "\n",
    "\n",
    "#def average():\n",
    "    \n",
    "print(totaled(lst1))\n",
    "\n",
    "#averaged = total/counter\n",
    "#print(averaged)"
   ]
  },
  {
   "cell_type": "code",
   "execution_count": null,
   "id": "9707bb57",
   "metadata": {},
   "outputs": [],
   "source": []
  }
 ],
 "metadata": {
  "kernelspec": {
   "display_name": "Python 3 (ipykernel)",
   "language": "python",
   "name": "python3"
  },
  "language_info": {
   "codemirror_mode": {
    "name": "ipython",
    "version": 3
   },
   "file_extension": ".py",
   "mimetype": "text/x-python",
   "name": "python",
   "nbconvert_exporter": "python",
   "pygments_lexer": "ipython3",
   "version": "3.8.8"
  }
 },
 "nbformat": 4,
 "nbformat_minor": 5
}
