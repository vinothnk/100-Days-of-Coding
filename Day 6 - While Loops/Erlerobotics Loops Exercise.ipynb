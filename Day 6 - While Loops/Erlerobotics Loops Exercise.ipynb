{
 "cells": [
  {
   "cell_type": "markdown",
   "id": "5630aa31",
   "metadata": {},
   "source": [
    "## Exercise 1\n",
    "Write a program that generates a random number (0-10) and ask you to guess it. You have three asserts.\n",
    "\n",
    "Define a random_number with randit between 0-10.\n",
    "\n",
    "Initialize guesses_left to 3.\n",
    "\n",
    "Use a while loop to let the user keep guessing so long as guesses_left is greater than zero.\n",
    "\n",
    "Ask the user for their guess, just like the second example above.\n",
    "\n",
    "If they guess correctly, print 'You win!' and break. Decrement guesses_left by one.\n",
    "\n",
    "Use an else: case after your while loop to print:You lose."
   ]
  },
  {
   "cell_type": "code",
   "execution_count": 12,
   "id": "d7a4057e",
   "metadata": {},
   "outputs": [
    {
     "name": "stdout",
     "output_type": "stream",
     "text": [
      "6\n",
      "Guess the number between 0-10: 8\n",
      "8\n",
      "You have 2 guesses left. You lose\n",
      "Guess the number between 0-10: 9\n",
      "9\n",
      "You have 1 guesses left. You lose\n",
      "Guess the number between 0-10: 4\n",
      "4\n",
      "You have 0 guesses left. You lose\n"
     ]
    }
   ],
   "source": [
    "#generate random number\n",
    "import random\n",
    "\n",
    "random_no = random.randint(0,10)\n",
    "print(random_no)\n",
    "\n",
    "guesses_left = 3\n",
    "\n",
    "while guesses_left > 0:\n",
    "    question = int(input(\"Guess the number between 0-10: \"))\n",
    "    print(question)\n",
    "    if question == random_no:\n",
    "        print(\"You win\")\n",
    "        break\n",
    "    else:\n",
    "        guesses_left -= 1\n",
    "        print(f\"You have {guesses_left} guesses left. You lose\")"
   ]
  },
  {
   "cell_type": "markdown",
   "id": "ce25c9a3",
   "metadata": {},
   "source": [
    "## Exercise 2\n",
    "Create a for loop that prompts the user for a hobby 3 times, then appends each one to hobbies."
   ]
  },
  {
   "cell_type": "code",
   "execution_count": 14,
   "id": "dd717cd8",
   "metadata": {},
   "outputs": [
    {
     "name": "stdout",
     "output_type": "stream",
     "text": [
      "User, please enter a hobby. football\n",
      "User, please enter a hobby. gaming\n",
      "User, please enter a hobby. netflix\n",
      "['football', 'gaming', 'netflix']\n"
     ]
    }
   ],
   "source": [
    "hobbies_list = []\n",
    "\n",
    "for hobby in range(3):\n",
    "    question = input(\"User, please enter a hobby. \")\n",
    "    hobbies_list.append(question)\n",
    "    \n",
    "print(hobbies_list)"
   ]
  },
  {
   "cell_type": "markdown",
   "id": "c3284b4e",
   "metadata": {},
   "source": [
    "## Exercise 3\n",
    "REmember: The , character after our print statement means that our next print statement keeps printing on the same line. \n",
    "Let's filter out the letter 'A' from our string.\n",
    "\n",
    "\n",
    "phrase = \"A bird in the hand...\"\n",
    "\n",
    "Do the following for each character in the phrase.\n",
    "\n",
    "If char is an 'A' or char is an 'a', print 'X', instead of char. Make sure to include the trailing comma.\n",
    "\n",
    "Otherwise (else:), please print char, with the trailing comma."
   ]
  },
  {
   "cell_type": "code",
   "execution_count": 26,
   "id": "f2abe9ec",
   "metadata": {},
   "outputs": [
    {
     "name": "stdout",
     "output_type": "stream",
     "text": [
      "A\n",
      " \n",
      "b\n",
      "i\n",
      "r\n",
      "d\n",
      " \n",
      "i\n",
      "n\n",
      " \n",
      "t\n",
      "h\n",
      "e\n",
      " \n",
      "h\n",
      "a\n",
      "n\n",
      "d\n",
      ".\n",
      ".\n",
      ".\n",
      "X bird in the hXnd...\n"
     ]
    }
   ],
   "source": [
    "phrase = \"A bird in the hand...\"\n",
    "\n",
    "\n",
    "#print out each character in the string\n",
    "for char in range(len(phrase)):\n",
    "    print(phrase[char]) # -> phrase[char] is the index of the chracter\n",
    "    \n",
    "    if phrase[char] == 'A' or phrase[char] == 'a':\n",
    "        phrase = phrase.replace(phrase[char], \"X\")\n",
    "    else:\n",
    "        continue\n",
    "        \n",
    "print(phrase)\n",
    "        \n",
    "    "
   ]
  },
  {
   "cell_type": "markdown",
   "id": "b53b7586",
   "metadata": {},
   "source": [
    "## Exercise 4\n",
    "Define a function is_even that will take a number x as input.If x is even, then return True. \n",
    "\n",
    "Otherwise, return False. \n",
    "\n",
    "Note: even means that is divisible by two.Check if it works."
   ]
  },
  {
   "cell_type": "code",
   "execution_count": 37,
   "id": "b1823f33",
   "metadata": {},
   "outputs": [
    {
     "name": "stdout",
     "output_type": "stream",
     "text": [
      "Please enter a number: 108562245875\n",
      "The number 108562245875 is odd.\n"
     ]
    }
   ],
   "source": [
    "def is_even():\n",
    "    x = int(input(\"Please enter a number: \"))\n",
    "    if (x % 2) == 0:\n",
    "        print(f\"The number {x} is Even.\")\n",
    "    else:\n",
    "        print(f\"The number {x} is odd.\")\n",
    "            \n",
    "\n",
    "is_even()"
   ]
  },
  {
   "cell_type": "markdown",
   "id": "40f2035e",
   "metadata": {},
   "source": [
    "## Exercise 5\n",
    "Write a function called digit_sum that takes a positive integer n as input and returns the sum of all that number's digits."
   ]
  },
  {
   "cell_type": "code",
   "execution_count": 48,
   "id": "9602e324",
   "metadata": {},
   "outputs": [
    {
     "name": "stdout",
     "output_type": "stream",
     "text": [
      "Please enter a positive integar: 8745\n"
     ]
    },
    {
     "data": {
      "text/plain": [
       "24"
      ]
     },
     "execution_count": 48,
     "metadata": {},
     "output_type": "execute_result"
    }
   ],
   "source": [
    "def digit_sum(n):\n",
    "    pos_int = str(n)\n",
    "    count = 0\n",
    "    for i in range(len(pos_int)):\n",
    "        #print(pos_int[i])\n",
    "        \n",
    "        count += int(pos_int[i])\n",
    "        #print(count)\n",
    "    return count\n",
    "\n",
    "digit_sum(input(\"Please enter a positive integar: \"))"
   ]
  },
  {
   "cell_type": "markdown",
   "id": "4df7c904",
   "metadata": {},
   "source": [
    "## Exercise 6\n",
    "Let's try a factorial problem. To calculate the factorial of a non-negative integer x, just multiply all the integers from 1 through x. For example: 3! is equal to 123"
   ]
  },
  {
   "cell_type": "code",
   "execution_count": 2,
   "id": "5cb9f768",
   "metadata": {},
   "outputs": [
    {
     "name": "stdout",
     "output_type": "stream",
     "text": [
      "Please enter a non-negative integar: 5\n",
      "1\n",
      "1\n",
      "factorial of  5  is  1\n",
      "2\n",
      "2\n",
      "factorial of  5  is  2\n",
      "3\n",
      "6\n",
      "factorial of  5  is  6\n",
      "4\n",
      "24\n",
      "factorial of  5  is  24\n",
      "5\n",
      "120\n",
      "factorial of  5  is  120\n"
     ]
    }
   ],
   "source": [
    "#for loop\n",
    "\n",
    "x = int(input(\"Please enter a non-negative integar: \"))\n",
    "#print(x)\n",
    "\n",
    "fac = 1\n",
    "\n",
    "for i in range(1, x+1):\n",
    "    print(i)\n",
    "    fac = fac * i\n",
    "    print(fac)\n",
    "    print(\"factorial of \", x, \" is \", fac)"
   ]
  },
  {
   "cell_type": "code",
   "execution_count": 6,
   "id": "719d39f9",
   "metadata": {},
   "outputs": [
    {
     "name": "stdout",
     "output_type": "stream",
     "text": [
      "Please enter a non-negative integar: 5\n",
      "factorial of  5  is  1\n",
      "factorial of  5  is  2\n",
      "factorial of  5  is  6\n",
      "factorial of  5  is  24\n",
      "factorial of  5  is  120\n"
     ]
    }
   ],
   "source": [
    "x = int(input(\"Please enter a non-negative integar: \"))\n",
    "#print(x)\n",
    "\n",
    "fac = 1\n",
    "i = 1\n",
    "\n",
    "while i <= x:\n",
    "    #print(i)\n",
    "    fac = fac * i\n",
    "    #print(fac)\n",
    "    i += 1\n",
    "    print(\"factorial of \", x, \" is \", fac)"
   ]
  },
  {
   "cell_type": "markdown",
   "id": "c63f8fa0",
   "metadata": {},
   "source": [
    "## Exercise 7\n",
    "Scrabble is a game where players get points by spelling words. Words are scored by adding together the point values of each individual letter.\n",
    "\n",
    "Define a function scrabble_score that takes a string word as input and returns the equivalent scrabble score for that word.\n",
    "\n",
    "\n",
    "score = {\"a\": 1, \"c\": 3, \"b\": 3, \"e\": 1, \"d\": 2, \"g\": 2,\n",
    "         \"f\": 4, \"i\": 1, \"h\": 4, \"k\": 5, \"j\": 8, \"m\": 3,\n",
    "         \"l\": 1, \"o\": 1, \"n\": 1, \"q\": 10, \"p\": 3, \"s\": 1,\n",
    "         \"r\": 1, \"u\": 1, \"t\": 1, \"w\": 4, \"v\": 4, \"y\": 4,\n",
    "         \"x\": 8, \"z\": 10}"
   ]
  },
  {
   "cell_type": "code",
   "execution_count": 6,
   "id": "6825cdd5",
   "metadata": {},
   "outputs": [
    {
     "name": "stdout",
     "output_type": "stream",
     "text": [
      "1\n",
      "h\n",
      "e\n",
      "l\n",
      "l\n",
      "o\n"
     ]
    },
    {
     "data": {
      "text/plain": [
       "8"
      ]
     },
     "execution_count": 6,
     "metadata": {},
     "output_type": "execute_result"
    }
   ],
   "source": [
    "\n",
    "\n",
    "score = {\"a\": 1, \"c\": 3, \"b\": 3, \"e\": 1, \"d\": 2, \"g\": 2,\n",
    "         \"f\": 4, \"i\": 1, \"h\": 4, \"k\": 5, \"j\": 8, \"m\": 3,\n",
    "         \"l\": 1, \"o\": 1, \"n\": 1, \"q\": 10, \"p\": 3, \"s\": 1,\n",
    "         \"r\": 1, \"u\": 1, \"t\": 1, \"w\": 4, \"v\": 4, \"y\": 4,\n",
    "         \"x\": 8, \"z\": 10}\n",
    "\n",
    "#print(score['a'])\n",
    "\n",
    "def scrabble_score(word):\n",
    "    word = word.lower()\n",
    "    total = 0\n",
    "    \n",
    "    for char in word:\n",
    "        print(char)\n",
    "        total = score[char] + total\n",
    "        \n",
    "    return total\n",
    "\n",
    "scrabble_score(\"Hello\")"
   ]
  },
  {
   "cell_type": "code",
   "execution_count": 24,
   "id": "4c476193",
   "metadata": {},
   "outputs": [
    {
     "name": "stdout",
     "output_type": "stream",
     "text": [
      "prints out the list ['175cm', '75kg', 'O+', '175cm']\n",
      "prints out the set {'O+', '175cm', '75kg'}\n",
      "prints out the list ['O+', '175cm', '75kg'] after removing duplicates.\n"
     ]
    }
   ],
   "source": [
    "score = {\"a\": 1, \"c\": 3, \"b\": 3, \"e\": 1, \"d\": 2, \"g\": 2,\n",
    "         \"f\": 4, \"i\": 1, \"h\": 4, \"k\": 5, \"j\": 8, \"m\": 3,\n",
    "         \"l\": 1, \"o\": 1, \"n\": 1, \"q\": 10, \"p\": 3, \"s\": 1,\n",
    "         \"r\": 1, \"u\": 1, \"t\": 1, \"w\": 4, \"v\": 4, \"y\": 4,\n",
    "         \"x\": 8, \"z\": 10}\n",
    "\n",
    "\n",
    "#fruits = {\"apple\": 2, \"banana\" : 4, \"orange\": 10}\n",
    "#print(fruits[\"apple\"])\n",
    "\n",
    "\n",
    "#students_list = {\"wilson\": [\"175cm\", \"75kg\", \"O+\"], \"vinoth\": [\"174cm\", \"105kg\", \"AB+\"], \"louis\": [\"170cm\", \"80kg\", \"O-\"]}\n",
    "#print(students_list[\"vinoth\"])\n",
    "\n",
    "#details = [\"175cm\", \"75kg\", \"O+\"]\n",
    "#print(details[0:2])\n",
    "\n",
    "details = [\"175cm\", \"75kg\", \"O+\", \"175cm\"]\n",
    "print(f\"prints out the list {details}\")\n",
    "\n",
    "details = set(details)\n",
    "#convert list to set\n",
    "print(f\"prints out the set {details}\")\n",
    "\n",
    "details = list(details)\n",
    "#convert back to a list after removing duplicates\n",
    "print(f\"prints out the list {details} after removing duplicates.\")\n",
    "#print(details(\"175\"))"
   ]
  },
  {
   "cell_type": "markdown",
   "id": "afad4781",
   "metadata": {},
   "source": [
    "## Exercise 8\n",
    "Define a function called count that has two arguments called sequence and item. \n",
    "\n",
    "Return the number of times the item occurs in the list.\n",
    "\n",
    "For example: count([1,2,1,1], 1) should return 3 (because 1 appears 3 times in the list)."
   ]
  },
  {
   "cell_type": "code",
   "execution_count": 60,
   "id": "f55c6996",
   "metadata": {},
   "outputs": [
    {
     "data": {
      "text/plain": [
       "1"
      ]
     },
     "execution_count": 60,
     "metadata": {},
     "output_type": "execute_result"
    }
   ],
   "source": [
    "def count(sequence, item):\n",
    "    total = 0\n",
    "    for i in (sequence):\n",
    "        if i == item:\n",
    "            total += 1\n",
    "            \n",
    "    return total\n",
    "\n",
    "count([1,2,1,1], 2)\n",
    "            "
   ]
  },
  {
   "cell_type": "markdown",
   "id": "957a19f7",
   "metadata": {},
   "source": [
    "## Exercise 9\n",
    "Write a function remove_duplicates that takes in a list and removes elements of the list that are the same.For example: remove_duplicates([1,1,2,2]) should return [1,2]."
   ]
  },
  {
   "cell_type": "code",
   "execution_count": 50,
   "id": "b68a86df",
   "metadata": {},
   "outputs": [
    {
     "data": {
      "text/plain": [
       "['3', '2', '5', '4', '1']"
      ]
     },
     "execution_count": 50,
     "metadata": {},
     "output_type": "execute_result"
    }
   ],
   "source": [
    "#using Sets\n",
    "\n",
    "def remove_duplicates(number):\n",
    "    number = str(number)\n",
    "    number_list = list(number)\n",
    "    \n",
    "    removed = set(number_list)\n",
    "    removed = list(removed)\n",
    "    return removed\n",
    "    \n",
    "            \n",
    "            \n",
    "\n",
    "remove_duplicates(1122334545)\n",
    "        "
   ]
  },
  {
   "cell_type": "code",
   "execution_count": 53,
   "id": "feb2e9d4",
   "metadata": {},
   "outputs": [
    {
     "data": {
      "text/plain": [
       "['1', '2', '3', '4', '5']"
      ]
     },
     "execution_count": 53,
     "metadata": {},
     "output_type": "execute_result"
    }
   ],
   "source": [
    "#using for loop\n",
    "\n",
    "def remove_duplicates(lst):\n",
    "    lst = str(lst)\n",
    "    lst = list(lst)\n",
    "    res = []\n",
    "    for x in lst:\n",
    "        if x not in res:\n",
    "            res.append(x)\n",
    "    return res\n",
    "\n",
    "remove_duplicates(1122334545)"
   ]
  },
  {
   "cell_type": "code",
   "execution_count": null,
   "id": "a2189cb0",
   "metadata": {},
   "outputs": [],
   "source": []
  }
 ],
 "metadata": {
  "kernelspec": {
   "display_name": "Python 3 (ipykernel)",
   "language": "python",
   "name": "python3"
  },
  "language_info": {
   "codemirror_mode": {
    "name": "ipython",
    "version": 3
   },
   "file_extension": ".py",
   "mimetype": "text/x-python",
   "name": "python",
   "nbconvert_exporter": "python",
   "pygments_lexer": "ipython3",
   "version": "3.8.8"
  }
 },
 "nbformat": 4,
 "nbformat_minor": 5
}
